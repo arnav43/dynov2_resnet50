{
  "nbformat": 4,
  "nbformat_minor": 0,
  "metadata": {
    "colab": {
      "provenance": [],
      "gpuType": "T4"
    },
    "kernelspec": {
      "name": "python3",
      "display_name": "Python 3"
    },
    "language_info": {
      "name": "python"
    },
    "accelerator": "GPU",
    "widgets": {
      "application/vnd.jupyter.widget-state+json": {
        "0f54a47febdc4d098bb97a7a3c628528": {
          "model_module": "@jupyter-widgets/controls",
          "model_name": "HBoxModel",
          "model_module_version": "1.5.0",
          "state": {
            "_dom_classes": [],
            "_model_module": "@jupyter-widgets/controls",
            "_model_module_version": "1.5.0",
            "_model_name": "HBoxModel",
            "_view_count": null,
            "_view_module": "@jupyter-widgets/controls",
            "_view_module_version": "1.5.0",
            "_view_name": "HBoxView",
            "box_style": "",
            "children": [
              "IPY_MODEL_e591957cdfa54606b2f5d8d7fd5f3c7e",
              "IPY_MODEL_fe4e0ad4b91b4fbcbe5af9bca6839418",
              "IPY_MODEL_88322bfef1d5499ca85318786da2b3b5"
            ],
            "layout": "IPY_MODEL_d6ee854a6d4f4b74ada97723ea176d75"
          }
        },
        "e591957cdfa54606b2f5d8d7fd5f3c7e": {
          "model_module": "@jupyter-widgets/controls",
          "model_name": "HTMLModel",
          "model_module_version": "1.5.0",
          "state": {
            "_dom_classes": [],
            "_model_module": "@jupyter-widgets/controls",
            "_model_module_version": "1.5.0",
            "_model_name": "HTMLModel",
            "_view_count": null,
            "_view_module": "@jupyter-widgets/controls",
            "_view_module_version": "1.5.0",
            "_view_name": "HTMLView",
            "description": "",
            "description_tooltip": null,
            "layout": "IPY_MODEL_9586d816bc7445fea60764af2d034487",
            "placeholder": "​",
            "style": "IPY_MODEL_5e02f50a29774cde85020d8496231684",
            "value": "preprocessor_config.json: 100%"
          }
        },
        "fe4e0ad4b91b4fbcbe5af9bca6839418": {
          "model_module": "@jupyter-widgets/controls",
          "model_name": "FloatProgressModel",
          "model_module_version": "1.5.0",
          "state": {
            "_dom_classes": [],
            "_model_module": "@jupyter-widgets/controls",
            "_model_module_version": "1.5.0",
            "_model_name": "FloatProgressModel",
            "_view_count": null,
            "_view_module": "@jupyter-widgets/controls",
            "_view_module_version": "1.5.0",
            "_view_name": "ProgressView",
            "bar_style": "success",
            "description": "",
            "description_tooltip": null,
            "layout": "IPY_MODEL_459c1da5f849482c844a16cee1f68829",
            "max": 436,
            "min": 0,
            "orientation": "horizontal",
            "style": "IPY_MODEL_64f710f31d69423a9726b2b59a228222",
            "value": 436
          }
        },
        "88322bfef1d5499ca85318786da2b3b5": {
          "model_module": "@jupyter-widgets/controls",
          "model_name": "HTMLModel",
          "model_module_version": "1.5.0",
          "state": {
            "_dom_classes": [],
            "_model_module": "@jupyter-widgets/controls",
            "_model_module_version": "1.5.0",
            "_model_name": "HTMLModel",
            "_view_count": null,
            "_view_module": "@jupyter-widgets/controls",
            "_view_module_version": "1.5.0",
            "_view_name": "HTMLView",
            "description": "",
            "description_tooltip": null,
            "layout": "IPY_MODEL_1cc3ccdf6e9b45759bb8e3c92f35bc02",
            "placeholder": "​",
            "style": "IPY_MODEL_17efb410ed5647618347e65d1ff67059",
            "value": " 436/436 [00:00&lt;00:00, 31.4kB/s]"
          }
        },
        "d6ee854a6d4f4b74ada97723ea176d75": {
          "model_module": "@jupyter-widgets/base",
          "model_name": "LayoutModel",
          "model_module_version": "1.2.0",
          "state": {
            "_model_module": "@jupyter-widgets/base",
            "_model_module_version": "1.2.0",
            "_model_name": "LayoutModel",
            "_view_count": null,
            "_view_module": "@jupyter-widgets/base",
            "_view_module_version": "1.2.0",
            "_view_name": "LayoutView",
            "align_content": null,
            "align_items": null,
            "align_self": null,
            "border": null,
            "bottom": null,
            "display": null,
            "flex": null,
            "flex_flow": null,
            "grid_area": null,
            "grid_auto_columns": null,
            "grid_auto_flow": null,
            "grid_auto_rows": null,
            "grid_column": null,
            "grid_gap": null,
            "grid_row": null,
            "grid_template_areas": null,
            "grid_template_columns": null,
            "grid_template_rows": null,
            "height": null,
            "justify_content": null,
            "justify_items": null,
            "left": null,
            "margin": null,
            "max_height": null,
            "max_width": null,
            "min_height": null,
            "min_width": null,
            "object_fit": null,
            "object_position": null,
            "order": null,
            "overflow": null,
            "overflow_x": null,
            "overflow_y": null,
            "padding": null,
            "right": null,
            "top": null,
            "visibility": null,
            "width": null
          }
        },
        "9586d816bc7445fea60764af2d034487": {
          "model_module": "@jupyter-widgets/base",
          "model_name": "LayoutModel",
          "model_module_version": "1.2.0",
          "state": {
            "_model_module": "@jupyter-widgets/base",
            "_model_module_version": "1.2.0",
            "_model_name": "LayoutModel",
            "_view_count": null,
            "_view_module": "@jupyter-widgets/base",
            "_view_module_version": "1.2.0",
            "_view_name": "LayoutView",
            "align_content": null,
            "align_items": null,
            "align_self": null,
            "border": null,
            "bottom": null,
            "display": null,
            "flex": null,
            "flex_flow": null,
            "grid_area": null,
            "grid_auto_columns": null,
            "grid_auto_flow": null,
            "grid_auto_rows": null,
            "grid_column": null,
            "grid_gap": null,
            "grid_row": null,
            "grid_template_areas": null,
            "grid_template_columns": null,
            "grid_template_rows": null,
            "height": null,
            "justify_content": null,
            "justify_items": null,
            "left": null,
            "margin": null,
            "max_height": null,
            "max_width": null,
            "min_height": null,
            "min_width": null,
            "object_fit": null,
            "object_position": null,
            "order": null,
            "overflow": null,
            "overflow_x": null,
            "overflow_y": null,
            "padding": null,
            "right": null,
            "top": null,
            "visibility": null,
            "width": null
          }
        },
        "5e02f50a29774cde85020d8496231684": {
          "model_module": "@jupyter-widgets/controls",
          "model_name": "DescriptionStyleModel",
          "model_module_version": "1.5.0",
          "state": {
            "_model_module": "@jupyter-widgets/controls",
            "_model_module_version": "1.5.0",
            "_model_name": "DescriptionStyleModel",
            "_view_count": null,
            "_view_module": "@jupyter-widgets/base",
            "_view_module_version": "1.2.0",
            "_view_name": "StyleView",
            "description_width": ""
          }
        },
        "459c1da5f849482c844a16cee1f68829": {
          "model_module": "@jupyter-widgets/base",
          "model_name": "LayoutModel",
          "model_module_version": "1.2.0",
          "state": {
            "_model_module": "@jupyter-widgets/base",
            "_model_module_version": "1.2.0",
            "_model_name": "LayoutModel",
            "_view_count": null,
            "_view_module": "@jupyter-widgets/base",
            "_view_module_version": "1.2.0",
            "_view_name": "LayoutView",
            "align_content": null,
            "align_items": null,
            "align_self": null,
            "border": null,
            "bottom": null,
            "display": null,
            "flex": null,
            "flex_flow": null,
            "grid_area": null,
            "grid_auto_columns": null,
            "grid_auto_flow": null,
            "grid_auto_rows": null,
            "grid_column": null,
            "grid_gap": null,
            "grid_row": null,
            "grid_template_areas": null,
            "grid_template_columns": null,
            "grid_template_rows": null,
            "height": null,
            "justify_content": null,
            "justify_items": null,
            "left": null,
            "margin": null,
            "max_height": null,
            "max_width": null,
            "min_height": null,
            "min_width": null,
            "object_fit": null,
            "object_position": null,
            "order": null,
            "overflow": null,
            "overflow_x": null,
            "overflow_y": null,
            "padding": null,
            "right": null,
            "top": null,
            "visibility": null,
            "width": null
          }
        },
        "64f710f31d69423a9726b2b59a228222": {
          "model_module": "@jupyter-widgets/controls",
          "model_name": "ProgressStyleModel",
          "model_module_version": "1.5.0",
          "state": {
            "_model_module": "@jupyter-widgets/controls",
            "_model_module_version": "1.5.0",
            "_model_name": "ProgressStyleModel",
            "_view_count": null,
            "_view_module": "@jupyter-widgets/base",
            "_view_module_version": "1.2.0",
            "_view_name": "StyleView",
            "bar_color": null,
            "description_width": ""
          }
        },
        "1cc3ccdf6e9b45759bb8e3c92f35bc02": {
          "model_module": "@jupyter-widgets/base",
          "model_name": "LayoutModel",
          "model_module_version": "1.2.0",
          "state": {
            "_model_module": "@jupyter-widgets/base",
            "_model_module_version": "1.2.0",
            "_model_name": "LayoutModel",
            "_view_count": null,
            "_view_module": "@jupyter-widgets/base",
            "_view_module_version": "1.2.0",
            "_view_name": "LayoutView",
            "align_content": null,
            "align_items": null,
            "align_self": null,
            "border": null,
            "bottom": null,
            "display": null,
            "flex": null,
            "flex_flow": null,
            "grid_area": null,
            "grid_auto_columns": null,
            "grid_auto_flow": null,
            "grid_auto_rows": null,
            "grid_column": null,
            "grid_gap": null,
            "grid_row": null,
            "grid_template_areas": null,
            "grid_template_columns": null,
            "grid_template_rows": null,
            "height": null,
            "justify_content": null,
            "justify_items": null,
            "left": null,
            "margin": null,
            "max_height": null,
            "max_width": null,
            "min_height": null,
            "min_width": null,
            "object_fit": null,
            "object_position": null,
            "order": null,
            "overflow": null,
            "overflow_x": null,
            "overflow_y": null,
            "padding": null,
            "right": null,
            "top": null,
            "visibility": null,
            "width": null
          }
        },
        "17efb410ed5647618347e65d1ff67059": {
          "model_module": "@jupyter-widgets/controls",
          "model_name": "DescriptionStyleModel",
          "model_module_version": "1.5.0",
          "state": {
            "_model_module": "@jupyter-widgets/controls",
            "_model_module_version": "1.5.0",
            "_model_name": "DescriptionStyleModel",
            "_view_count": null,
            "_view_module": "@jupyter-widgets/base",
            "_view_module_version": "1.2.0",
            "_view_name": "StyleView",
            "description_width": ""
          }
        },
        "8b46e3d0a71545fc9663ac7a508bc93e": {
          "model_module": "@jupyter-widgets/controls",
          "model_name": "HBoxModel",
          "model_module_version": "1.5.0",
          "state": {
            "_dom_classes": [],
            "_model_module": "@jupyter-widgets/controls",
            "_model_module_version": "1.5.0",
            "_model_name": "HBoxModel",
            "_view_count": null,
            "_view_module": "@jupyter-widgets/controls",
            "_view_module_version": "1.5.0",
            "_view_name": "HBoxView",
            "box_style": "",
            "children": [
              "IPY_MODEL_e44766f6bb2b48c3bb53d3f09f8d2e4d",
              "IPY_MODEL_62d1d0ab0e62454786afd05a5f9da576",
              "IPY_MODEL_1d1d17d12ecb4a71a600aaea3332a700"
            ],
            "layout": "IPY_MODEL_47e61fdaa1164ce9a5849280ba3a1a49"
          }
        },
        "e44766f6bb2b48c3bb53d3f09f8d2e4d": {
          "model_module": "@jupyter-widgets/controls",
          "model_name": "HTMLModel",
          "model_module_version": "1.5.0",
          "state": {
            "_dom_classes": [],
            "_model_module": "@jupyter-widgets/controls",
            "_model_module_version": "1.5.0",
            "_model_name": "HTMLModel",
            "_view_count": null,
            "_view_module": "@jupyter-widgets/controls",
            "_view_module_version": "1.5.0",
            "_view_name": "HTMLView",
            "description": "",
            "description_tooltip": null,
            "layout": "IPY_MODEL_66c2fb71fbf44c85b05f48b9e4816b4a",
            "placeholder": "​",
            "style": "IPY_MODEL_d4757ca5606a4f0aae2b47700f709d1d",
            "value": "config.json: 100%"
          }
        },
        "62d1d0ab0e62454786afd05a5f9da576": {
          "model_module": "@jupyter-widgets/controls",
          "model_name": "FloatProgressModel",
          "model_module_version": "1.5.0",
          "state": {
            "_dom_classes": [],
            "_model_module": "@jupyter-widgets/controls",
            "_model_module_version": "1.5.0",
            "_model_name": "FloatProgressModel",
            "_view_count": null,
            "_view_module": "@jupyter-widgets/controls",
            "_view_module_version": "1.5.0",
            "_view_name": "ProgressView",
            "bar_style": "success",
            "description": "",
            "description_tooltip": null,
            "layout": "IPY_MODEL_3f8cb158aba5497abc3c33209cee570e",
            "max": 548,
            "min": 0,
            "orientation": "horizontal",
            "style": "IPY_MODEL_893e01a5a9274e18afee3304385d8bcf",
            "value": 548
          }
        },
        "1d1d17d12ecb4a71a600aaea3332a700": {
          "model_module": "@jupyter-widgets/controls",
          "model_name": "HTMLModel",
          "model_module_version": "1.5.0",
          "state": {
            "_dom_classes": [],
            "_model_module": "@jupyter-widgets/controls",
            "_model_module_version": "1.5.0",
            "_model_name": "HTMLModel",
            "_view_count": null,
            "_view_module": "@jupyter-widgets/controls",
            "_view_module_version": "1.5.0",
            "_view_name": "HTMLView",
            "description": "",
            "description_tooltip": null,
            "layout": "IPY_MODEL_cd868f2b30b74ee4b35bc0220e49a2e7",
            "placeholder": "​",
            "style": "IPY_MODEL_166a1cb91892463586ddf7aa0262aa35",
            "value": " 548/548 [00:00&lt;00:00, 27.1kB/s]"
          }
        },
        "47e61fdaa1164ce9a5849280ba3a1a49": {
          "model_module": "@jupyter-widgets/base",
          "model_name": "LayoutModel",
          "model_module_version": "1.2.0",
          "state": {
            "_model_module": "@jupyter-widgets/base",
            "_model_module_version": "1.2.0",
            "_model_name": "LayoutModel",
            "_view_count": null,
            "_view_module": "@jupyter-widgets/base",
            "_view_module_version": "1.2.0",
            "_view_name": "LayoutView",
            "align_content": null,
            "align_items": null,
            "align_self": null,
            "border": null,
            "bottom": null,
            "display": null,
            "flex": null,
            "flex_flow": null,
            "grid_area": null,
            "grid_auto_columns": null,
            "grid_auto_flow": null,
            "grid_auto_rows": null,
            "grid_column": null,
            "grid_gap": null,
            "grid_row": null,
            "grid_template_areas": null,
            "grid_template_columns": null,
            "grid_template_rows": null,
            "height": null,
            "justify_content": null,
            "justify_items": null,
            "left": null,
            "margin": null,
            "max_height": null,
            "max_width": null,
            "min_height": null,
            "min_width": null,
            "object_fit": null,
            "object_position": null,
            "order": null,
            "overflow": null,
            "overflow_x": null,
            "overflow_y": null,
            "padding": null,
            "right": null,
            "top": null,
            "visibility": null,
            "width": null
          }
        },
        "66c2fb71fbf44c85b05f48b9e4816b4a": {
          "model_module": "@jupyter-widgets/base",
          "model_name": "LayoutModel",
          "model_module_version": "1.2.0",
          "state": {
            "_model_module": "@jupyter-widgets/base",
            "_model_module_version": "1.2.0",
            "_model_name": "LayoutModel",
            "_view_count": null,
            "_view_module": "@jupyter-widgets/base",
            "_view_module_version": "1.2.0",
            "_view_name": "LayoutView",
            "align_content": null,
            "align_items": null,
            "align_self": null,
            "border": null,
            "bottom": null,
            "display": null,
            "flex": null,
            "flex_flow": null,
            "grid_area": null,
            "grid_auto_columns": null,
            "grid_auto_flow": null,
            "grid_auto_rows": null,
            "grid_column": null,
            "grid_gap": null,
            "grid_row": null,
            "grid_template_areas": null,
            "grid_template_columns": null,
            "grid_template_rows": null,
            "height": null,
            "justify_content": null,
            "justify_items": null,
            "left": null,
            "margin": null,
            "max_height": null,
            "max_width": null,
            "min_height": null,
            "min_width": null,
            "object_fit": null,
            "object_position": null,
            "order": null,
            "overflow": null,
            "overflow_x": null,
            "overflow_y": null,
            "padding": null,
            "right": null,
            "top": null,
            "visibility": null,
            "width": null
          }
        },
        "d4757ca5606a4f0aae2b47700f709d1d": {
          "model_module": "@jupyter-widgets/controls",
          "model_name": "DescriptionStyleModel",
          "model_module_version": "1.5.0",
          "state": {
            "_model_module": "@jupyter-widgets/controls",
            "_model_module_version": "1.5.0",
            "_model_name": "DescriptionStyleModel",
            "_view_count": null,
            "_view_module": "@jupyter-widgets/base",
            "_view_module_version": "1.2.0",
            "_view_name": "StyleView",
            "description_width": ""
          }
        },
        "3f8cb158aba5497abc3c33209cee570e": {
          "model_module": "@jupyter-widgets/base",
          "model_name": "LayoutModel",
          "model_module_version": "1.2.0",
          "state": {
            "_model_module": "@jupyter-widgets/base",
            "_model_module_version": "1.2.0",
            "_model_name": "LayoutModel",
            "_view_count": null,
            "_view_module": "@jupyter-widgets/base",
            "_view_module_version": "1.2.0",
            "_view_name": "LayoutView",
            "align_content": null,
            "align_items": null,
            "align_self": null,
            "border": null,
            "bottom": null,
            "display": null,
            "flex": null,
            "flex_flow": null,
            "grid_area": null,
            "grid_auto_columns": null,
            "grid_auto_flow": null,
            "grid_auto_rows": null,
            "grid_column": null,
            "grid_gap": null,
            "grid_row": null,
            "grid_template_areas": null,
            "grid_template_columns": null,
            "grid_template_rows": null,
            "height": null,
            "justify_content": null,
            "justify_items": null,
            "left": null,
            "margin": null,
            "max_height": null,
            "max_width": null,
            "min_height": null,
            "min_width": null,
            "object_fit": null,
            "object_position": null,
            "order": null,
            "overflow": null,
            "overflow_x": null,
            "overflow_y": null,
            "padding": null,
            "right": null,
            "top": null,
            "visibility": null,
            "width": null
          }
        },
        "893e01a5a9274e18afee3304385d8bcf": {
          "model_module": "@jupyter-widgets/controls",
          "model_name": "ProgressStyleModel",
          "model_module_version": "1.5.0",
          "state": {
            "_model_module": "@jupyter-widgets/controls",
            "_model_module_version": "1.5.0",
            "_model_name": "ProgressStyleModel",
            "_view_count": null,
            "_view_module": "@jupyter-widgets/base",
            "_view_module_version": "1.2.0",
            "_view_name": "StyleView",
            "bar_color": null,
            "description_width": ""
          }
        },
        "cd868f2b30b74ee4b35bc0220e49a2e7": {
          "model_module": "@jupyter-widgets/base",
          "model_name": "LayoutModel",
          "model_module_version": "1.2.0",
          "state": {
            "_model_module": "@jupyter-widgets/base",
            "_model_module_version": "1.2.0",
            "_model_name": "LayoutModel",
            "_view_count": null,
            "_view_module": "@jupyter-widgets/base",
            "_view_module_version": "1.2.0",
            "_view_name": "LayoutView",
            "align_content": null,
            "align_items": null,
            "align_self": null,
            "border": null,
            "bottom": null,
            "display": null,
            "flex": null,
            "flex_flow": null,
            "grid_area": null,
            "grid_auto_columns": null,
            "grid_auto_flow": null,
            "grid_auto_rows": null,
            "grid_column": null,
            "grid_gap": null,
            "grid_row": null,
            "grid_template_areas": null,
            "grid_template_columns": null,
            "grid_template_rows": null,
            "height": null,
            "justify_content": null,
            "justify_items": null,
            "left": null,
            "margin": null,
            "max_height": null,
            "max_width": null,
            "min_height": null,
            "min_width": null,
            "object_fit": null,
            "object_position": null,
            "order": null,
            "overflow": null,
            "overflow_x": null,
            "overflow_y": null,
            "padding": null,
            "right": null,
            "top": null,
            "visibility": null,
            "width": null
          }
        },
        "166a1cb91892463586ddf7aa0262aa35": {
          "model_module": "@jupyter-widgets/controls",
          "model_name": "DescriptionStyleModel",
          "model_module_version": "1.5.0",
          "state": {
            "_model_module": "@jupyter-widgets/controls",
            "_model_module_version": "1.5.0",
            "_model_name": "DescriptionStyleModel",
            "_view_count": null,
            "_view_module": "@jupyter-widgets/base",
            "_view_module_version": "1.2.0",
            "_view_name": "StyleView",
            "description_width": ""
          }
        },
        "fbff6a35d1d84c68aaffa2543a5257bd": {
          "model_module": "@jupyter-widgets/controls",
          "model_name": "HBoxModel",
          "model_module_version": "1.5.0",
          "state": {
            "_dom_classes": [],
            "_model_module": "@jupyter-widgets/controls",
            "_model_module_version": "1.5.0",
            "_model_name": "HBoxModel",
            "_view_count": null,
            "_view_module": "@jupyter-widgets/controls",
            "_view_module_version": "1.5.0",
            "_view_name": "HBoxView",
            "box_style": "",
            "children": [
              "IPY_MODEL_bc3d6c84ba1747f3a62d6a65a2db97fe",
              "IPY_MODEL_9de63a6d660a46738f70e2ecf9f8ca54",
              "IPY_MODEL_eda59cc5ece74d23a3934f62317386e3"
            ],
            "layout": "IPY_MODEL_2fc5778fa75f47f7914b4abeadb461cf"
          }
        },
        "bc3d6c84ba1747f3a62d6a65a2db97fe": {
          "model_module": "@jupyter-widgets/controls",
          "model_name": "HTMLModel",
          "model_module_version": "1.5.0",
          "state": {
            "_dom_classes": [],
            "_model_module": "@jupyter-widgets/controls",
            "_model_module_version": "1.5.0",
            "_model_name": "HTMLModel",
            "_view_count": null,
            "_view_module": "@jupyter-widgets/controls",
            "_view_module_version": "1.5.0",
            "_view_name": "HTMLView",
            "description": "",
            "description_tooltip": null,
            "layout": "IPY_MODEL_5db77b87220b4ce9bcd9cd13e6fb4aa4",
            "placeholder": "​",
            "style": "IPY_MODEL_eb5e316d487c442f9f5d86d69eca92dd",
            "value": "model.safetensors: 100%"
          }
        },
        "9de63a6d660a46738f70e2ecf9f8ca54": {
          "model_module": "@jupyter-widgets/controls",
          "model_name": "FloatProgressModel",
          "model_module_version": "1.5.0",
          "state": {
            "_dom_classes": [],
            "_model_module": "@jupyter-widgets/controls",
            "_model_module_version": "1.5.0",
            "_model_name": "FloatProgressModel",
            "_view_count": null,
            "_view_module": "@jupyter-widgets/controls",
            "_view_module_version": "1.5.0",
            "_view_name": "ProgressView",
            "bar_style": "success",
            "description": "",
            "description_tooltip": null,
            "layout": "IPY_MODEL_a0381d0cda9d4c2b9380f88a3eee5bf4",
            "max": 346345912,
            "min": 0,
            "orientation": "horizontal",
            "style": "IPY_MODEL_2515ed10a6554adbb9b74e8db6c54f6e",
            "value": 346345912
          }
        },
        "eda59cc5ece74d23a3934f62317386e3": {
          "model_module": "@jupyter-widgets/controls",
          "model_name": "HTMLModel",
          "model_module_version": "1.5.0",
          "state": {
            "_dom_classes": [],
            "_model_module": "@jupyter-widgets/controls",
            "_model_module_version": "1.5.0",
            "_model_name": "HTMLModel",
            "_view_count": null,
            "_view_module": "@jupyter-widgets/controls",
            "_view_module_version": "1.5.0",
            "_view_name": "HTMLView",
            "description": "",
            "description_tooltip": null,
            "layout": "IPY_MODEL_49a523e9ce2141cb9da21d509aa1a661",
            "placeholder": "​",
            "style": "IPY_MODEL_207150e7174d4c10b97b831045165edd",
            "value": " 346M/346M [00:01&lt;00:00, 244MB/s]"
          }
        },
        "2fc5778fa75f47f7914b4abeadb461cf": {
          "model_module": "@jupyter-widgets/base",
          "model_name": "LayoutModel",
          "model_module_version": "1.2.0",
          "state": {
            "_model_module": "@jupyter-widgets/base",
            "_model_module_version": "1.2.0",
            "_model_name": "LayoutModel",
            "_view_count": null,
            "_view_module": "@jupyter-widgets/base",
            "_view_module_version": "1.2.0",
            "_view_name": "LayoutView",
            "align_content": null,
            "align_items": null,
            "align_self": null,
            "border": null,
            "bottom": null,
            "display": null,
            "flex": null,
            "flex_flow": null,
            "grid_area": null,
            "grid_auto_columns": null,
            "grid_auto_flow": null,
            "grid_auto_rows": null,
            "grid_column": null,
            "grid_gap": null,
            "grid_row": null,
            "grid_template_areas": null,
            "grid_template_columns": null,
            "grid_template_rows": null,
            "height": null,
            "justify_content": null,
            "justify_items": null,
            "left": null,
            "margin": null,
            "max_height": null,
            "max_width": null,
            "min_height": null,
            "min_width": null,
            "object_fit": null,
            "object_position": null,
            "order": null,
            "overflow": null,
            "overflow_x": null,
            "overflow_y": null,
            "padding": null,
            "right": null,
            "top": null,
            "visibility": null,
            "width": null
          }
        },
        "5db77b87220b4ce9bcd9cd13e6fb4aa4": {
          "model_module": "@jupyter-widgets/base",
          "model_name": "LayoutModel",
          "model_module_version": "1.2.0",
          "state": {
            "_model_module": "@jupyter-widgets/base",
            "_model_module_version": "1.2.0",
            "_model_name": "LayoutModel",
            "_view_count": null,
            "_view_module": "@jupyter-widgets/base",
            "_view_module_version": "1.2.0",
            "_view_name": "LayoutView",
            "align_content": null,
            "align_items": null,
            "align_self": null,
            "border": null,
            "bottom": null,
            "display": null,
            "flex": null,
            "flex_flow": null,
            "grid_area": null,
            "grid_auto_columns": null,
            "grid_auto_flow": null,
            "grid_auto_rows": null,
            "grid_column": null,
            "grid_gap": null,
            "grid_row": null,
            "grid_template_areas": null,
            "grid_template_columns": null,
            "grid_template_rows": null,
            "height": null,
            "justify_content": null,
            "justify_items": null,
            "left": null,
            "margin": null,
            "max_height": null,
            "max_width": null,
            "min_height": null,
            "min_width": null,
            "object_fit": null,
            "object_position": null,
            "order": null,
            "overflow": null,
            "overflow_x": null,
            "overflow_y": null,
            "padding": null,
            "right": null,
            "top": null,
            "visibility": null,
            "width": null
          }
        },
        "eb5e316d487c442f9f5d86d69eca92dd": {
          "model_module": "@jupyter-widgets/controls",
          "model_name": "DescriptionStyleModel",
          "model_module_version": "1.5.0",
          "state": {
            "_model_module": "@jupyter-widgets/controls",
            "_model_module_version": "1.5.0",
            "_model_name": "DescriptionStyleModel",
            "_view_count": null,
            "_view_module": "@jupyter-widgets/base",
            "_view_module_version": "1.2.0",
            "_view_name": "StyleView",
            "description_width": ""
          }
        },
        "a0381d0cda9d4c2b9380f88a3eee5bf4": {
          "model_module": "@jupyter-widgets/base",
          "model_name": "LayoutModel",
          "model_module_version": "1.2.0",
          "state": {
            "_model_module": "@jupyter-widgets/base",
            "_model_module_version": "1.2.0",
            "_model_name": "LayoutModel",
            "_view_count": null,
            "_view_module": "@jupyter-widgets/base",
            "_view_module_version": "1.2.0",
            "_view_name": "LayoutView",
            "align_content": null,
            "align_items": null,
            "align_self": null,
            "border": null,
            "bottom": null,
            "display": null,
            "flex": null,
            "flex_flow": null,
            "grid_area": null,
            "grid_auto_columns": null,
            "grid_auto_flow": null,
            "grid_auto_rows": null,
            "grid_column": null,
            "grid_gap": null,
            "grid_row": null,
            "grid_template_areas": null,
            "grid_template_columns": null,
            "grid_template_rows": null,
            "height": null,
            "justify_content": null,
            "justify_items": null,
            "left": null,
            "margin": null,
            "max_height": null,
            "max_width": null,
            "min_height": null,
            "min_width": null,
            "object_fit": null,
            "object_position": null,
            "order": null,
            "overflow": null,
            "overflow_x": null,
            "overflow_y": null,
            "padding": null,
            "right": null,
            "top": null,
            "visibility": null,
            "width": null
          }
        },
        "2515ed10a6554adbb9b74e8db6c54f6e": {
          "model_module": "@jupyter-widgets/controls",
          "model_name": "ProgressStyleModel",
          "model_module_version": "1.5.0",
          "state": {
            "_model_module": "@jupyter-widgets/controls",
            "_model_module_version": "1.5.0",
            "_model_name": "ProgressStyleModel",
            "_view_count": null,
            "_view_module": "@jupyter-widgets/base",
            "_view_module_version": "1.2.0",
            "_view_name": "StyleView",
            "bar_color": null,
            "description_width": ""
          }
        },
        "49a523e9ce2141cb9da21d509aa1a661": {
          "model_module": "@jupyter-widgets/base",
          "model_name": "LayoutModel",
          "model_module_version": "1.2.0",
          "state": {
            "_model_module": "@jupyter-widgets/base",
            "_model_module_version": "1.2.0",
            "_model_name": "LayoutModel",
            "_view_count": null,
            "_view_module": "@jupyter-widgets/base",
            "_view_module_version": "1.2.0",
            "_view_name": "LayoutView",
            "align_content": null,
            "align_items": null,
            "align_self": null,
            "border": null,
            "bottom": null,
            "display": null,
            "flex": null,
            "flex_flow": null,
            "grid_area": null,
            "grid_auto_columns": null,
            "grid_auto_flow": null,
            "grid_auto_rows": null,
            "grid_column": null,
            "grid_gap": null,
            "grid_row": null,
            "grid_template_areas": null,
            "grid_template_columns": null,
            "grid_template_rows": null,
            "height": null,
            "justify_content": null,
            "justify_items": null,
            "left": null,
            "margin": null,
            "max_height": null,
            "max_width": null,
            "min_height": null,
            "min_width": null,
            "object_fit": null,
            "object_position": null,
            "order": null,
            "overflow": null,
            "overflow_x": null,
            "overflow_y": null,
            "padding": null,
            "right": null,
            "top": null,
            "visibility": null,
            "width": null
          }
        },
        "207150e7174d4c10b97b831045165edd": {
          "model_module": "@jupyter-widgets/controls",
          "model_name": "DescriptionStyleModel",
          "model_module_version": "1.5.0",
          "state": {
            "_model_module": "@jupyter-widgets/controls",
            "_model_module_version": "1.5.0",
            "_model_name": "DescriptionStyleModel",
            "_view_count": null,
            "_view_module": "@jupyter-widgets/base",
            "_view_module_version": "1.2.0",
            "_view_name": "StyleView",
            "description_width": ""
          }
        }
      }
    }
  },
  "cells": [
    {
      "cell_type": "code",
      "execution_count": 1,
      "metadata": {
        "id": "vfFkWb-lk1wg"
      },
      "outputs": [],
      "source": [
        "import torch\n",
        "import torch.nn as nn\n",
        "import torchvision\n",
        "import torchvision.transforms as transforms\n",
        "import matplotlib.pyplot as plt\n",
        "import numpy as np\n",
        "import pandas as pd\n",
        "from torchvision.datasets import ImageFolder\n",
        "from torch.utils.data import DataLoader, Dataset"
      ]
    },
    {
      "cell_type": "code",
      "source": [
        "import zipfile\n",
        "\n",
        "path = '/content/archive.zip'\n",
        "zip_ref = zipfile.ZipFile(path,'r')\n",
        "zip_ref.extractall() # or leave blank to extract to current directory"
      ],
      "metadata": {
        "id": "pR2rYM9alBdE"
      },
      "execution_count": 2,
      "outputs": []
    },
    {
      "cell_type": "code",
      "source": [
        "device = \"cuda\" if torch.cuda.is_available() else \"cpu\"\n",
        "device"
      ],
      "metadata": {
        "colab": {
          "base_uri": "https://localhost:8080/",
          "height": 36
        },
        "id": "kt2l20cblD_E",
        "outputId": "1d10e7d5-6a60-4237-bb1e-4d32e0f995fd"
      },
      "execution_count": 3,
      "outputs": [
        {
          "output_type": "execute_result",
          "data": {
            "text/plain": [
              "'cuda'"
            ],
            "application/vnd.google.colaboratory.intrinsic+json": {
              "type": "string"
            }
          },
          "metadata": {},
          "execution_count": 3
        }
      ]
    },
    {
      "cell_type": "code",
      "source": [
        "train_path = '/content/melanoma_cancer_dataset/train'\n",
        "test_path = '/content/melanoma_cancer_dataset/test'"
      ],
      "metadata": {
        "id": "p1Pu92eClFSU"
      },
      "execution_count": 4,
      "outputs": []
    },
    {
      "cell_type": "code",
      "source": [
        "train_transforms = transforms.Compose([\n",
        "    transforms.Resize((224,224)),\n",
        "    transforms.ToTensor(),\n",
        "    transforms.Normalize(mean=[0.485, 0.456, 0.406], std=[0.229, 0.224, 0.225]),\n",
        "    transforms.RandomHorizontalFlip(p=0.5),\n",
        "    transforms.RandomVerticalFlip(p=0.5),\n",
        "    transforms.RandomRotation(degrees=15),\n",
        "])\n",
        "\n",
        "test_transforms = transforms.Compose([\n",
        "    transforms.Resize((224,224)),\n",
        "    transforms.ToTensor(),\n",
        "    transforms.Normalize(mean=[0.485, 0.456, 0.406], std=[0.229, 0.224, 0.225]),\n",
        "])"
      ],
      "metadata": {
        "id": "qA0g9GaBlGZD"
      },
      "execution_count": 5,
      "outputs": []
    },
    {
      "cell_type": "code",
      "source": [
        "# Lets now load our data using ImageFolder\n",
        "train_data = ImageFolder(root=train_path,\n",
        "                         transform= train_transforms)\n",
        "test_data = ImageFolder(root=test_path,\n",
        "                        transform= test_transforms)\n",
        "\n",
        "print(f\"Train data:\\n{train_data}\\nTest data:\\n{test_data}\")"
      ],
      "metadata": {
        "colab": {
          "base_uri": "https://localhost:8080/"
        },
        "id": "eQi4EZUUlIAb",
        "outputId": "7b8751f3-f58e-46e0-b3e9-6301e4811eeb"
      },
      "execution_count": 6,
      "outputs": [
        {
          "output_type": "stream",
          "name": "stdout",
          "text": [
            "Train data:\n",
            "Dataset ImageFolder\n",
            "    Number of datapoints: 9605\n",
            "    Root location: /content/melanoma_cancer_dataset/train\n",
            "    StandardTransform\n",
            "Transform: Compose(\n",
            "               Resize(size=(224, 224), interpolation=bilinear, max_size=None, antialias=warn)\n",
            "               ToTensor()\n",
            "               Normalize(mean=[0.485, 0.456, 0.406], std=[0.229, 0.224, 0.225])\n",
            "               RandomHorizontalFlip(p=0.5)\n",
            "               RandomVerticalFlip(p=0.5)\n",
            "               RandomRotation(degrees=[-15.0, 15.0], interpolation=nearest, expand=False, fill=0)\n",
            "           )\n",
            "Test data:\n",
            "Dataset ImageFolder\n",
            "    Number of datapoints: 1000\n",
            "    Root location: /content/melanoma_cancer_dataset/test\n",
            "    StandardTransform\n",
            "Transform: Compose(\n",
            "               Resize(size=(224, 224), interpolation=bilinear, max_size=None, antialias=warn)\n",
            "               ToTensor()\n",
            "               Normalize(mean=[0.485, 0.456, 0.406], std=[0.229, 0.224, 0.225])\n",
            "           )\n"
          ]
        }
      ]
    },
    {
      "cell_type": "code",
      "source": [
        "import os\n",
        "# Lets now turn our data into dataloaders\n",
        "train_dataloader = DataLoader(dataset=train_data,\n",
        "                              batch_size=32,\n",
        "                              shuffle=True,\n",
        "                              num_workers= os.cpu_count(),\n",
        "                              )\n",
        "\n",
        "test_dataloader = DataLoader(dataset=test_data,\n",
        "                             batch_size=32,\n",
        "                             shuffle = False,\n",
        "                             num_workers = os.cpu_count(),\n",
        "                             )\n",
        "\n",
        "train_dataloader, test_dataloader"
      ],
      "metadata": {
        "colab": {
          "base_uri": "https://localhost:8080/"
        },
        "id": "REU1kautlKUU",
        "outputId": "f70fbaaa-903a-43b0-973d-0dd839df198b"
      },
      "execution_count": 7,
      "outputs": [
        {
          "output_type": "execute_result",
          "data": {
            "text/plain": [
              "(<torch.utils.data.dataloader.DataLoader at 0x7d31626cb550>,\n",
              " <torch.utils.data.dataloader.DataLoader at 0x7d321225eec0>)"
            ]
          },
          "metadata": {},
          "execution_count": 7
        }
      ]
    },
    {
      "cell_type": "code",
      "source": [
        "# Lets get started with ViT (DynoV2)\n",
        "# Clone the DINOv2 repository\n",
        "!git clone https://github.com/facebookresearch/dinov2.git\n",
        "\n",
        "# Change to the DINOv2 directory\n",
        "%cd dinov2\n",
        "\n",
        "# Install dependencies\n",
        "!pip install -r requirements.txt\n"
      ],
      "metadata": {
        "colab": {
          "base_uri": "https://localhost:8080/"
        },
        "id": "1AvuI-JXlN-U",
        "outputId": "4f05374a-1deb-4007-fad1-b6deac85e0af"
      },
      "execution_count": 8,
      "outputs": [
        {
          "output_type": "stream",
          "name": "stdout",
          "text": [
            "fatal: destination path 'dinov2' already exists and is not an empty directory.\n",
            "/content/dinov2\n",
            "Looking in indexes: https://pypi.org/simple, https://download.pytorch.org/whl/cu117, https://pypi.nvidia.com\n",
            "Requirement already satisfied: torch==2.0.0 in /usr/local/lib/python3.10/dist-packages (from -r requirements.txt (line 2)) (2.0.0+cu117)\n",
            "Requirement already satisfied: torchvision==0.15.0 in /usr/local/lib/python3.10/dist-packages (from -r requirements.txt (line 3)) (0.15.0+cu117)\n",
            "Requirement already satisfied: omegaconf in /usr/local/lib/python3.10/dist-packages (from -r requirements.txt (line 4)) (2.3.0)\n",
            "Requirement already satisfied: torchmetrics==0.10.3 in /usr/local/lib/python3.10/dist-packages (from -r requirements.txt (line 5)) (0.10.3)\n",
            "Requirement already satisfied: fvcore in /usr/local/lib/python3.10/dist-packages (from -r requirements.txt (line 6)) (0.1.5.post20221221)\n",
            "Requirement already satisfied: iopath in /usr/local/lib/python3.10/dist-packages (from -r requirements.txt (line 7)) (0.1.10)\n",
            "Requirement already satisfied: xformers==0.0.18 in /usr/local/lib/python3.10/dist-packages (from -r requirements.txt (line 8)) (0.0.18)\n",
            "Requirement already satisfied: submitit in /usr/local/lib/python3.10/dist-packages (from -r requirements.txt (line 9)) (1.5.2)\n",
            "Requirement already satisfied: cuml-cu11 in /usr/local/lib/python3.10/dist-packages (from -r requirements.txt (line 11)) (24.8.0)\n",
            "Requirement already satisfied: filelock in /usr/local/lib/python3.10/dist-packages (from torch==2.0.0->-r requirements.txt (line 2)) (3.16.1)\n",
            "Requirement already satisfied: typing-extensions in /usr/local/lib/python3.10/dist-packages (from torch==2.0.0->-r requirements.txt (line 2)) (4.12.2)\n",
            "Requirement already satisfied: sympy in /usr/local/lib/python3.10/dist-packages (from torch==2.0.0->-r requirements.txt (line 2)) (1.13.3)\n",
            "Requirement already satisfied: networkx in /usr/local/lib/python3.10/dist-packages (from torch==2.0.0->-r requirements.txt (line 2)) (3.3)\n",
            "Requirement already satisfied: jinja2 in /usr/local/lib/python3.10/dist-packages (from torch==2.0.0->-r requirements.txt (line 2)) (3.1.4)\n",
            "Requirement already satisfied: triton==2.0.0 in /usr/local/lib/python3.10/dist-packages (from torch==2.0.0->-r requirements.txt (line 2)) (2.0.0)\n",
            "Requirement already satisfied: numpy in /usr/local/lib/python3.10/dist-packages (from torchvision==0.15.0->-r requirements.txt (line 3)) (1.26.4)\n",
            "Requirement already satisfied: requests in /usr/local/lib/python3.10/dist-packages (from torchvision==0.15.0->-r requirements.txt (line 3)) (2.32.3)\n",
            "Requirement already satisfied: pillow!=8.3.*,>=5.3.0 in /usr/local/lib/python3.10/dist-packages (from torchvision==0.15.0->-r requirements.txt (line 3)) (10.4.0)\n",
            "Requirement already satisfied: packaging in /usr/local/lib/python3.10/dist-packages (from torchmetrics==0.10.3->-r requirements.txt (line 5)) (24.1)\n",
            "Requirement already satisfied: pyre-extensions==0.0.23 in /usr/local/lib/python3.10/dist-packages (from xformers==0.0.18->-r requirements.txt (line 8)) (0.0.23)\n",
            "Requirement already satisfied: typing-inspect in /usr/local/lib/python3.10/dist-packages (from pyre-extensions==0.0.23->xformers==0.0.18->-r requirements.txt (line 8)) (0.9.0)\n",
            "Requirement already satisfied: cmake in /usr/local/lib/python3.10/dist-packages (from triton==2.0.0->torch==2.0.0->-r requirements.txt (line 2)) (3.30.4)\n",
            "Requirement already satisfied: lit in /usr/local/lib/python3.10/dist-packages (from triton==2.0.0->torch==2.0.0->-r requirements.txt (line 2)) (18.1.8)\n",
            "Requirement already satisfied: antlr4-python3-runtime==4.9.* in /usr/local/lib/python3.10/dist-packages (from omegaconf->-r requirements.txt (line 4)) (4.9.3)\n",
            "Requirement already satisfied: PyYAML>=5.1.0 in /usr/local/lib/python3.10/dist-packages (from omegaconf->-r requirements.txt (line 4)) (6.0.2)\n",
            "Requirement already satisfied: yacs>=0.1.6 in /usr/local/lib/python3.10/dist-packages (from fvcore->-r requirements.txt (line 6)) (0.1.8)\n",
            "Requirement already satisfied: tqdm in /usr/local/lib/python3.10/dist-packages (from fvcore->-r requirements.txt (line 6)) (4.66.5)\n",
            "Requirement already satisfied: termcolor>=1.1 in /usr/local/lib/python3.10/dist-packages (from fvcore->-r requirements.txt (line 6)) (2.4.0)\n",
            "Requirement already satisfied: tabulate in /usr/local/lib/python3.10/dist-packages (from fvcore->-r requirements.txt (line 6)) (0.9.0)\n",
            "Requirement already satisfied: portalocker in /usr/local/lib/python3.10/dist-packages (from iopath->-r requirements.txt (line 7)) (2.10.1)\n",
            "Requirement already satisfied: cloudpickle>=1.2.1 in /usr/local/lib/python3.10/dist-packages (from submitit->-r requirements.txt (line 9)) (2.2.1)\n",
            "Requirement already satisfied: cudf-cu11==24.8.* in /usr/local/lib/python3.10/dist-packages (from cuml-cu11->-r requirements.txt (line 11)) (24.8.3)\n",
            "Requirement already satisfied: cupy-cuda11x>=12.0.0 in /usr/local/lib/python3.10/dist-packages (from cuml-cu11->-r requirements.txt (line 11)) (13.3.0)\n",
            "Requirement already satisfied: dask-cuda==24.8.* in /usr/local/lib/python3.10/dist-packages (from cuml-cu11->-r requirements.txt (line 11)) (24.8.2)\n",
            "Requirement already satisfied: dask-cudf-cu11==24.8.* in /usr/local/lib/python3.10/dist-packages (from cuml-cu11->-r requirements.txt (line 11)) (24.8.3)\n",
            "Requirement already satisfied: joblib>=0.11 in /usr/local/lib/python3.10/dist-packages (from cuml-cu11->-r requirements.txt (line 11)) (1.4.2)\n",
            "Requirement already satisfied: numba>=0.57 in /usr/local/lib/python3.10/dist-packages (from cuml-cu11->-r requirements.txt (line 11)) (0.60.0)\n",
            "Requirement already satisfied: pylibraft-cu11==24.8.* in /usr/local/lib/python3.10/dist-packages (from cuml-cu11->-r requirements.txt (line 11)) (24.8.1)\n",
            "Requirement already satisfied: raft-dask-cu11==24.8.* in /usr/local/lib/python3.10/dist-packages (from cuml-cu11->-r requirements.txt (line 11)) (24.8.1)\n",
            "Requirement already satisfied: rapids-dask-dependency==24.8.* in /usr/local/lib/python3.10/dist-packages (from cuml-cu11->-r requirements.txt (line 11)) (24.8.0)\n",
            "Requirement already satisfied: rmm-cu11==24.8.* in /usr/local/lib/python3.10/dist-packages (from cuml-cu11->-r requirements.txt (line 11)) (24.8.2)\n",
            "Requirement already satisfied: scipy>=1.8.0 in /usr/local/lib/python3.10/dist-packages (from cuml-cu11->-r requirements.txt (line 11)) (1.13.1)\n",
            "Requirement already satisfied: treelite==4.3.0 in /usr/local/lib/python3.10/dist-packages (from cuml-cu11->-r requirements.txt (line 11)) (4.3.0)\n",
            "Requirement already satisfied: cachetools in /usr/local/lib/python3.10/dist-packages (from cudf-cu11==24.8.*->cuml-cu11->-r requirements.txt (line 11)) (5.5.0)\n",
            "Requirement already satisfied: cubinlinker-cu11 in /usr/local/lib/python3.10/dist-packages (from cudf-cu11==24.8.*->cuml-cu11->-r requirements.txt (line 11)) (0.3.0.post2)\n",
            "Requirement already satisfied: cuda-python<12.0a0,>=11.7.1 in /usr/local/lib/python3.10/dist-packages (from cudf-cu11==24.8.*->cuml-cu11->-r requirements.txt (line 11)) (11.8.3)\n",
            "Requirement already satisfied: fsspec>=0.6.0 in /usr/local/lib/python3.10/dist-packages (from cudf-cu11==24.8.*->cuml-cu11->-r requirements.txt (line 11)) (2024.6.1)\n",
            "Requirement already satisfied: nvtx>=0.2.1 in /usr/local/lib/python3.10/dist-packages (from cudf-cu11==24.8.*->cuml-cu11->-r requirements.txt (line 11)) (0.2.10)\n",
            "Requirement already satisfied: pandas<2.2.3dev0,>=2.0 in /usr/local/lib/python3.10/dist-packages (from cudf-cu11==24.8.*->cuml-cu11->-r requirements.txt (line 11)) (2.2.2)\n",
            "Requirement already satisfied: ptxcompiler-cu11 in /usr/local/lib/python3.10/dist-packages (from cudf-cu11==24.8.*->cuml-cu11->-r requirements.txt (line 11)) (0.8.1.post2)\n",
            "Requirement already satisfied: pyarrow<16.2.0a0,>=16.1.0 in /usr/local/lib/python3.10/dist-packages (from cudf-cu11==24.8.*->cuml-cu11->-r requirements.txt (line 11)) (16.1.0)\n",
            "Requirement already satisfied: rich in /usr/local/lib/python3.10/dist-packages (from cudf-cu11==24.8.*->cuml-cu11->-r requirements.txt (line 11)) (13.8.1)\n",
            "Requirement already satisfied: click>=8.1 in /usr/local/lib/python3.10/dist-packages (from dask-cuda==24.8.*->cuml-cu11->-r requirements.txt (line 11)) (8.1.7)\n",
            "Requirement already satisfied: pynvml<11.5,>=11.0.0 in /usr/local/lib/python3.10/dist-packages (from dask-cuda==24.8.*->cuml-cu11->-r requirements.txt (line 11)) (11.4.1)\n",
            "Requirement already satisfied: zict>=2.0.0 in /usr/local/lib/python3.10/dist-packages (from dask-cuda==24.8.*->cuml-cu11->-r requirements.txt (line 11)) (3.0.0)\n",
            "Requirement already satisfied: distributed-ucxx-cu11==0.39.* in /usr/local/lib/python3.10/dist-packages (from raft-dask-cu11==24.8.*->cuml-cu11->-r requirements.txt (line 11)) (0.39.1)\n",
            "Requirement already satisfied: ucx-py-cu11==0.39.* in /usr/local/lib/python3.10/dist-packages (from raft-dask-cu11==24.8.*->cuml-cu11->-r requirements.txt (line 11)) (0.39.2)\n",
            "Requirement already satisfied: dask==2024.7.1 in /usr/local/lib/python3.10/dist-packages (from rapids-dask-dependency==24.8.*->cuml-cu11->-r requirements.txt (line 11)) (2024.7.1)\n",
            "Requirement already satisfied: distributed==2024.7.1 in /usr/local/lib/python3.10/dist-packages (from rapids-dask-dependency==24.8.*->cuml-cu11->-r requirements.txt (line 11)) (2024.7.1)\n",
            "Requirement already satisfied: dask-expr in /usr/local/lib/python3.10/dist-packages (from rapids-dask-dependency==24.8.*->cuml-cu11->-r requirements.txt (line 11)) (1.1.9)\n",
            "Requirement already satisfied: partd>=1.4.0 in /usr/local/lib/python3.10/dist-packages (from dask==2024.7.1->rapids-dask-dependency==24.8.*->cuml-cu11->-r requirements.txt (line 11)) (1.4.2)\n",
            "Requirement already satisfied: toolz>=0.10.0 in /usr/local/lib/python3.10/dist-packages (from dask==2024.7.1->rapids-dask-dependency==24.8.*->cuml-cu11->-r requirements.txt (line 11)) (0.12.1)\n",
            "Requirement already satisfied: importlib-metadata>=4.13.0 in /usr/local/lib/python3.10/dist-packages (from dask==2024.7.1->rapids-dask-dependency==24.8.*->cuml-cu11->-r requirements.txt (line 11)) (8.4.0)\n",
            "Requirement already satisfied: locket>=1.0.0 in /usr/local/lib/python3.10/dist-packages (from distributed==2024.7.1->rapids-dask-dependency==24.8.*->cuml-cu11->-r requirements.txt (line 11)) (1.0.0)\n",
            "Requirement already satisfied: msgpack>=1.0.0 in /usr/local/lib/python3.10/dist-packages (from distributed==2024.7.1->rapids-dask-dependency==24.8.*->cuml-cu11->-r requirements.txt (line 11)) (1.0.8)\n",
            "Requirement already satisfied: psutil>=5.7.2 in /usr/local/lib/python3.10/dist-packages (from distributed==2024.7.1->rapids-dask-dependency==24.8.*->cuml-cu11->-r requirements.txt (line 11)) (5.9.5)\n",
            "Requirement already satisfied: sortedcontainers>=2.0.5 in /usr/local/lib/python3.10/dist-packages (from distributed==2024.7.1->rapids-dask-dependency==24.8.*->cuml-cu11->-r requirements.txt (line 11)) (2.4.0)\n",
            "Requirement already satisfied: tblib>=1.6.0 in /usr/local/lib/python3.10/dist-packages (from distributed==2024.7.1->rapids-dask-dependency==24.8.*->cuml-cu11->-r requirements.txt (line 11)) (3.0.0)\n",
            "Requirement already satisfied: tornado>=6.0.4 in /usr/local/lib/python3.10/dist-packages (from distributed==2024.7.1->rapids-dask-dependency==24.8.*->cuml-cu11->-r requirements.txt (line 11)) (6.3.3)\n",
            "Requirement already satisfied: urllib3>=1.24.3 in /usr/local/lib/python3.10/dist-packages (from distributed==2024.7.1->rapids-dask-dependency==24.8.*->cuml-cu11->-r requirements.txt (line 11)) (2.2.3)\n",
            "Requirement already satisfied: ucxx-cu11==0.39.* in /usr/local/lib/python3.10/dist-packages (from distributed-ucxx-cu11==0.39.*->raft-dask-cu11==24.8.*->cuml-cu11->-r requirements.txt (line 11)) (0.39.1)\n",
            "Requirement already satisfied: libucx-cu11<1.16,>=1.15.0 in /usr/local/lib/python3.10/dist-packages (from ucx-py-cu11==0.39.*->raft-dask-cu11==24.8.*->cuml-cu11->-r requirements.txt (line 11)) (1.15.0.post1)\n",
            "Requirement already satisfied: fastrlock>=0.5 in /usr/local/lib/python3.10/dist-packages (from cupy-cuda11x>=12.0.0->cuml-cu11->-r requirements.txt (line 11)) (0.8.2)\n",
            "Requirement already satisfied: MarkupSafe>=2.0 in /usr/local/lib/python3.10/dist-packages (from jinja2->torch==2.0.0->-r requirements.txt (line 2)) (2.1.5)\n",
            "Requirement already satisfied: llvmlite<0.44,>=0.43.0dev0 in /usr/local/lib/python3.10/dist-packages (from numba>=0.57->cuml-cu11->-r requirements.txt (line 11)) (0.43.0)\n",
            "Requirement already satisfied: charset-normalizer<4,>=2 in /usr/local/lib/python3.10/dist-packages (from requests->torchvision==0.15.0->-r requirements.txt (line 3)) (3.3.2)\n",
            "Requirement already satisfied: idna<4,>=2.5 in /usr/local/lib/python3.10/dist-packages (from requests->torchvision==0.15.0->-r requirements.txt (line 3)) (3.10)\n",
            "Requirement already satisfied: certifi>=2017.4.17 in /usr/local/lib/python3.10/dist-packages (from requests->torchvision==0.15.0->-r requirements.txt (line 3)) (2024.8.30)\n",
            "Requirement already satisfied: mpmath<1.4,>=1.1.0 in /usr/local/lib/python3.10/dist-packages (from sympy->torch==2.0.0->-r requirements.txt (line 2)) (1.3.0)\n",
            "Requirement already satisfied: python-dateutil>=2.8.2 in /usr/local/lib/python3.10/dist-packages (from pandas<2.2.3dev0,>=2.0->cudf-cu11==24.8.*->cuml-cu11->-r requirements.txt (line 11)) (2.8.2)\n",
            "Requirement already satisfied: pytz>=2020.1 in /usr/local/lib/python3.10/dist-packages (from pandas<2.2.3dev0,>=2.0->cudf-cu11==24.8.*->cuml-cu11->-r requirements.txt (line 11)) (2024.2)\n",
            "Requirement already satisfied: tzdata>=2022.7 in /usr/local/lib/python3.10/dist-packages (from pandas<2.2.3dev0,>=2.0->cudf-cu11==24.8.*->cuml-cu11->-r requirements.txt (line 11)) (2024.2)\n",
            "Requirement already satisfied: markdown-it-py>=2.2.0 in /usr/local/lib/python3.10/dist-packages (from rich->cudf-cu11==24.8.*->cuml-cu11->-r requirements.txt (line 11)) (3.0.0)\n",
            "Requirement already satisfied: pygments<3.0.0,>=2.13.0 in /usr/local/lib/python3.10/dist-packages (from rich->cudf-cu11==24.8.*->cuml-cu11->-r requirements.txt (line 11)) (2.18.0)\n",
            "Requirement already satisfied: mypy-extensions>=0.3.0 in /usr/local/lib/python3.10/dist-packages (from typing-inspect->pyre-extensions==0.0.23->xformers==0.0.18->-r requirements.txt (line 8)) (1.0.0)\n",
            "Requirement already satisfied: zipp>=0.5 in /usr/local/lib/python3.10/dist-packages (from importlib-metadata>=4.13.0->dask==2024.7.1->rapids-dask-dependency==24.8.*->cuml-cu11->-r requirements.txt (line 11)) (3.20.2)\n",
            "Requirement already satisfied: mdurl~=0.1 in /usr/local/lib/python3.10/dist-packages (from markdown-it-py>=2.2.0->rich->cudf-cu11==24.8.*->cuml-cu11->-r requirements.txt (line 11)) (0.1.2)\n",
            "Requirement already satisfied: six>=1.5 in /usr/local/lib/python3.10/dist-packages (from python-dateutil>=2.8.2->pandas<2.2.3dev0,>=2.0->cudf-cu11==24.8.*->cuml-cu11->-r requirements.txt (line 11)) (1.16.0)\n"
          ]
        }
      ]
    },
    {
      "cell_type": "code",
      "source": [
        "import torch\n",
        "from transformers import Dinov2ForImageClassification, AutoImageProcessor\n",
        "from torch.utils.data import DataLoader\n",
        "import torchvision.transforms as transforms"
      ],
      "metadata": {
        "id": "3rTh3hqwlT8M"
      },
      "execution_count": 9,
      "outputs": []
    },
    {
      "cell_type": "code",
      "source": [
        "# Load the pre-trained model and image processor\n",
        "processor = AutoImageProcessor.from_pretrained(\"facebook/dinov2-base\")\n",
        "# No need processor, using own transformations\n",
        "model = Dinov2ForImageClassification.from_pretrained(\"facebook/dinov2-base\")\n",
        "model"
      ],
      "metadata": {
        "colab": {
          "base_uri": "https://localhost:8080/",
          "height": 966,
          "referenced_widgets": [
            "0f54a47febdc4d098bb97a7a3c628528",
            "e591957cdfa54606b2f5d8d7fd5f3c7e",
            "fe4e0ad4b91b4fbcbe5af9bca6839418",
            "88322bfef1d5499ca85318786da2b3b5",
            "d6ee854a6d4f4b74ada97723ea176d75",
            "9586d816bc7445fea60764af2d034487",
            "5e02f50a29774cde85020d8496231684",
            "459c1da5f849482c844a16cee1f68829",
            "64f710f31d69423a9726b2b59a228222",
            "1cc3ccdf6e9b45759bb8e3c92f35bc02",
            "17efb410ed5647618347e65d1ff67059",
            "8b46e3d0a71545fc9663ac7a508bc93e",
            "e44766f6bb2b48c3bb53d3f09f8d2e4d",
            "62d1d0ab0e62454786afd05a5f9da576",
            "1d1d17d12ecb4a71a600aaea3332a700",
            "47e61fdaa1164ce9a5849280ba3a1a49",
            "66c2fb71fbf44c85b05f48b9e4816b4a",
            "d4757ca5606a4f0aae2b47700f709d1d",
            "3f8cb158aba5497abc3c33209cee570e",
            "893e01a5a9274e18afee3304385d8bcf",
            "cd868f2b30b74ee4b35bc0220e49a2e7",
            "166a1cb91892463586ddf7aa0262aa35",
            "fbff6a35d1d84c68aaffa2543a5257bd",
            "bc3d6c84ba1747f3a62d6a65a2db97fe",
            "9de63a6d660a46738f70e2ecf9f8ca54",
            "eda59cc5ece74d23a3934f62317386e3",
            "2fc5778fa75f47f7914b4abeadb461cf",
            "5db77b87220b4ce9bcd9cd13e6fb4aa4",
            "eb5e316d487c442f9f5d86d69eca92dd",
            "a0381d0cda9d4c2b9380f88a3eee5bf4",
            "2515ed10a6554adbb9b74e8db6c54f6e",
            "49a523e9ce2141cb9da21d509aa1a661",
            "207150e7174d4c10b97b831045165edd"
          ]
        },
        "id": "fbFoqhkDlWMs",
        "outputId": "12111d4d-8c43-4142-8173-b1d39cc025cb"
      },
      "execution_count": 10,
      "outputs": [
        {
          "output_type": "stream",
          "name": "stderr",
          "text": [
            "/usr/local/lib/python3.10/dist-packages/huggingface_hub/utils/_token.py:89: UserWarning: \n",
            "The secret `HF_TOKEN` does not exist in your Colab secrets.\n",
            "To authenticate with the Hugging Face Hub, create a token in your settings tab (https://huggingface.co/settings/tokens), set it as secret in your Google Colab and restart your session.\n",
            "You will be able to reuse this secret in all of your notebooks.\n",
            "Please note that authentication is recommended but still optional to access public models or datasets.\n",
            "  warnings.warn(\n"
          ]
        },
        {
          "output_type": "display_data",
          "data": {
            "text/plain": [
              "preprocessor_config.json:   0%|          | 0.00/436 [00:00<?, ?B/s]"
            ],
            "application/vnd.jupyter.widget-view+json": {
              "version_major": 2,
              "version_minor": 0,
              "model_id": "0f54a47febdc4d098bb97a7a3c628528"
            }
          },
          "metadata": {}
        },
        {
          "output_type": "display_data",
          "data": {
            "text/plain": [
              "config.json:   0%|          | 0.00/548 [00:00<?, ?B/s]"
            ],
            "application/vnd.jupyter.widget-view+json": {
              "version_major": 2,
              "version_minor": 0,
              "model_id": "8b46e3d0a71545fc9663ac7a508bc93e"
            }
          },
          "metadata": {}
        },
        {
          "output_type": "display_data",
          "data": {
            "text/plain": [
              "model.safetensors:   0%|          | 0.00/346M [00:00<?, ?B/s]"
            ],
            "application/vnd.jupyter.widget-view+json": {
              "version_major": 2,
              "version_minor": 0,
              "model_id": "fbff6a35d1d84c68aaffa2543a5257bd"
            }
          },
          "metadata": {}
        },
        {
          "output_type": "stream",
          "name": "stderr",
          "text": [
            "Some weights of Dinov2ForImageClassification were not initialized from the model checkpoint at facebook/dinov2-base and are newly initialized: ['classifier.bias', 'classifier.weight']\n",
            "You should probably TRAIN this model on a down-stream task to be able to use it for predictions and inference.\n"
          ]
        },
        {
          "output_type": "execute_result",
          "data": {
            "text/plain": [
              "Dinov2ForImageClassification(\n",
              "  (dinov2): Dinov2Model(\n",
              "    (embeddings): Dinov2Embeddings(\n",
              "      (patch_embeddings): Dinov2PatchEmbeddings(\n",
              "        (projection): Conv2d(3, 768, kernel_size=(14, 14), stride=(14, 14))\n",
              "      )\n",
              "      (dropout): Dropout(p=0.0, inplace=False)\n",
              "    )\n",
              "    (encoder): Dinov2Encoder(\n",
              "      (layer): ModuleList(\n",
              "        (0-11): 12 x Dinov2Layer(\n",
              "          (norm1): LayerNorm((768,), eps=1e-06, elementwise_affine=True)\n",
              "          (attention): Dinov2Attention(\n",
              "            (attention): Dinov2SelfAttention(\n",
              "              (query): Linear(in_features=768, out_features=768, bias=True)\n",
              "              (key): Linear(in_features=768, out_features=768, bias=True)\n",
              "              (value): Linear(in_features=768, out_features=768, bias=True)\n",
              "              (dropout): Dropout(p=0.0, inplace=False)\n",
              "            )\n",
              "            (output): Dinov2SelfOutput(\n",
              "              (dense): Linear(in_features=768, out_features=768, bias=True)\n",
              "              (dropout): Dropout(p=0.0, inplace=False)\n",
              "            )\n",
              "          )\n",
              "          (layer_scale1): Dinov2LayerScale()\n",
              "          (drop_path): Identity()\n",
              "          (norm2): LayerNorm((768,), eps=1e-06, elementwise_affine=True)\n",
              "          (mlp): Dinov2MLP(\n",
              "            (fc1): Linear(in_features=768, out_features=3072, bias=True)\n",
              "            (activation): GELUActivation()\n",
              "            (fc2): Linear(in_features=3072, out_features=768, bias=True)\n",
              "          )\n",
              "          (layer_scale2): Dinov2LayerScale()\n",
              "        )\n",
              "      )\n",
              "    )\n",
              "    (layernorm): LayerNorm((768,), eps=1e-06, elementwise_affine=True)\n",
              "  )\n",
              "  (classifier): Linear(in_features=1536, out_features=2, bias=True)\n",
              ")"
            ]
          },
          "metadata": {},
          "execution_count": 10
        }
      ]
    },
    {
      "cell_type": "code",
      "source": [
        "!pip install torchinfo\n",
        "from torchinfo import summary\n",
        "summary(model,\n",
        "        input_size=(32, 3, 224, 224),\n",
        "        col_names=[\"input_size\", \"output_size\", \"num_params\", \"trainable\"],\n",
        "        col_width=20,\n",
        "        row_settings=[\"var_names\"])"
      ],
      "metadata": {
        "colab": {
          "base_uri": "https://localhost:8080/"
        },
        "id": "fC6-rKcOlrYV",
        "outputId": "169dce9e-0957-4bc7-858b-6b6fe6077b7d"
      },
      "execution_count": 11,
      "outputs": [
        {
          "output_type": "stream",
          "name": "stdout",
          "text": [
            "Collecting torchinfo\n",
            "  Downloading torchinfo-1.8.0-py3-none-any.whl.metadata (21 kB)\n",
            "Downloading torchinfo-1.8.0-py3-none-any.whl (23 kB)\n",
            "Installing collected packages: torchinfo\n",
            "Successfully installed torchinfo-1.8.0\n"
          ]
        },
        {
          "output_type": "execute_result",
          "data": {
            "text/plain": [
              "=================================================================================================================================================\n",
              "Layer (type (var_name))                                           Input Shape          Output Shape         Param #              Trainable\n",
              "=================================================================================================================================================\n",
              "Dinov2ForImageClassification (Dinov2ForImageClassification)       [32, 3, 224, 224]    [32, 2]              --                   True\n",
              "├─Dinov2Model (dinov2)                                            [32, 3, 224, 224]    [32, 768]            --                   True\n",
              "│    └─Dinov2Embeddings (embeddings)                              [32, 3, 224, 224]    [32, 257, 768]       1,053,696            True\n",
              "│    │    └─Dinov2PatchEmbeddings (patch_embeddings)              [32, 3, 224, 224]    [32, 256, 768]       452,352              True\n",
              "│    │    └─Dropout (dropout)                                     [32, 257, 768]       [32, 257, 768]       --                   --\n",
              "│    └─Dinov2Encoder (encoder)                                    [32, 257, 768]       [32, 257, 768]       --                   True\n",
              "│    │    └─ModuleList (layer)                                    --                   --                   85,072,896           True\n",
              "│    └─LayerNorm (layernorm)                                      [32, 257, 768]       [32, 257, 768]       1,536                True\n",
              "├─Linear (classifier)                                             [32, 1536]           [32, 2]              3,074                True\n",
              "=================================================================================================================================================\n",
              "Total params: 86,583,554\n",
              "Trainable params: 86,583,554\n",
              "Non-trainable params: 0\n",
              "Total mult-adds (G): 6.43\n",
              "=================================================================================================================================================\n",
              "Input size (MB): 19.27\n",
              "Forward/backward pass size (MB): 7983.27\n",
              "Params size (MB): 342.12\n",
              "Estimated Total Size (MB): 8344.66\n",
              "================================================================================================================================================="
            ]
          },
          "metadata": {},
          "execution_count": 11
        }
      ]
    },
    {
      "cell_type": "code",
      "source": [
        "# Assume `model` is your Dinov2ForImageClassification instance\n",
        "for param in model.dinov2.parameters():\n",
        "    param.requires_grad = False  # Freeze all parameters in the Dinov2 model\n",
        "\n",
        "# Unfreeze the classifier\n",
        "for param in model.classifier.parameters():\n",
        "    param.requires_grad = True  # Train the classifier parameters\n"
      ],
      "metadata": {
        "id": "pU4J7GJTlwgE"
      },
      "execution_count": 12,
      "outputs": []
    },
    {
      "cell_type": "code",
      "source": [
        "!pip install torchinfo\n",
        "from torchinfo import summary\n",
        "summary(model,\n",
        "        input_size=(32, 3, 224, 224),\n",
        "        col_names=[\"input_size\", \"output_size\", \"num_params\", \"trainable\"],\n",
        "        col_width=20,\n",
        "        row_settings=[\"var_names\"])"
      ],
      "metadata": {
        "colab": {
          "base_uri": "https://localhost:8080/"
        },
        "id": "Mln05EyZlwic",
        "outputId": "a1ad3466-5a5f-4939-f796-291c4faea93d"
      },
      "execution_count": 13,
      "outputs": [
        {
          "output_type": "stream",
          "name": "stdout",
          "text": [
            "Requirement already satisfied: torchinfo in /usr/local/lib/python3.10/dist-packages (1.8.0)\n"
          ]
        },
        {
          "output_type": "execute_result",
          "data": {
            "text/plain": [
              "=================================================================================================================================================\n",
              "Layer (type (var_name))                                           Input Shape          Output Shape         Param #              Trainable\n",
              "=================================================================================================================================================\n",
              "Dinov2ForImageClassification (Dinov2ForImageClassification)       [32, 3, 224, 224]    [32, 2]              --                   Partial\n",
              "├─Dinov2Model (dinov2)                                            [32, 3, 224, 224]    [32, 768]            --                   False\n",
              "│    └─Dinov2Embeddings (embeddings)                              [32, 3, 224, 224]    [32, 257, 768]       1,053,696            False\n",
              "│    │    └─Dinov2PatchEmbeddings (patch_embeddings)              [32, 3, 224, 224]    [32, 256, 768]       (452,352)            False\n",
              "│    │    └─Dropout (dropout)                                     [32, 257, 768]       [32, 257, 768]       --                   --\n",
              "│    └─Dinov2Encoder (encoder)                                    [32, 257, 768]       [32, 257, 768]       --                   False\n",
              "│    │    └─ModuleList (layer)                                    --                   --                   (85,072,896)         False\n",
              "│    └─LayerNorm (layernorm)                                      [32, 257, 768]       [32, 257, 768]       (1,536)              False\n",
              "├─Linear (classifier)                                             [32, 1536]           [32, 2]              3,074                True\n",
              "=================================================================================================================================================\n",
              "Total params: 86,583,554\n",
              "Trainable params: 3,074\n",
              "Non-trainable params: 86,580,480\n",
              "Total mult-adds (G): 6.43\n",
              "=================================================================================================================================================\n",
              "Input size (MB): 19.27\n",
              "Forward/backward pass size (MB): 7983.27\n",
              "Params size (MB): 342.12\n",
              "Estimated Total Size (MB): 8344.66\n",
              "================================================================================================================================================="
            ]
          },
          "metadata": {},
          "execution_count": 13
        }
      ]
    },
    {
      "cell_type": "code",
      "source": [
        "# Lets define a loss function and a optimizer\n",
        "loss_fn = nn.CrossEntropyLoss()\n",
        "optimizer = torch.optim.Adam(model.parameters(), lr=0.0001)"
      ],
      "metadata": {
        "id": "tiPBemmdlwke"
      },
      "execution_count": 14,
      "outputs": []
    },
    {
      "cell_type": "code",
      "source": [
        "import torch\n",
        "from tqdm import tqdm\n",
        "\n",
        "# Move the model to the appropriate device (GPU or CPU)\n",
        "device = torch.device('cuda' if torch.cuda.is_available() else 'cpu')\n",
        "model.to(device)\n",
        "\n",
        "num_epochs = 10\n",
        "\n",
        "for epoch in tqdm(range(num_epochs)):\n",
        "    model.train()\n",
        "    running_loss = 0\n",
        "    running_corrects = 0  # Initialize correct predictions counter\n",
        "    total_samples = 0  # Initialize total samples counter\n",
        "\n",
        "    for batch_idx, (images, labels) in enumerate(train_dataloader):\n",
        "        images, labels = images.to(device), labels.to(device)\n",
        "\n",
        "        optimizer.zero_grad()\n",
        "        outputs = model(images).logits  # Access logits directly\n",
        "        loss = loss_fn(outputs, labels)\n",
        "        loss.backward()\n",
        "        optimizer.step()\n",
        "\n",
        "        running_loss += loss.item()\n",
        "\n",
        "        # Calculate predictions and accuracy\n",
        "        _, preds = torch.max(outputs, 1)  # Get predicted class indices\n",
        "        running_corrects += (preds == labels).sum().item()  # Count correct predictions\n",
        "        total_samples += labels.size(0)  # Count total samples in the batch\n",
        "\n",
        "        # Print every 10 batches\n",
        "        if batch_idx % 10 == 0:\n",
        "            batch_accuracy = (preds == labels).float().mean()  # Calculate batch accuracy\n",
        "            print(f\"Epoch [{epoch+1}/{num_epochs}], Batch [{batch_idx}/{len(train_dataloader)}], \"\n",
        "                  f\"Loss: {loss.item():.4f}, Batch Accuracy: {batch_accuracy:.4f}\")\n",
        "\n",
        "    # Calculate and print epoch-level metrics\n",
        "    epoch_accuracy = running_corrects / total_samples  # Calculate accuracy for the epoch\n",
        "    print(f\"Epoch [{epoch+1}/{num_epochs}], Average Loss: {running_loss/len(train_dataloader):.4f}, \"\n",
        "          f\"Epoch Accuracy: {epoch_accuracy:.4f}\")\n",
        "\n",
        "# Save the model state after training\n",
        "torch.save(model.state_dict(), 'dinov2_finetuned.pth')\n"
      ],
      "metadata": {
        "colab": {
          "base_uri": "https://localhost:8080/"
        },
        "id": "a42DmjoWlqBM",
        "outputId": "b2f8479c-4397-4570-ae2a-a9202e85fc6a"
      },
      "execution_count": 15,
      "outputs": [
        {
          "output_type": "stream",
          "name": "stderr",
          "text": [
            "\r  0%|          | 0/10 [00:00<?, ?it/s]"
          ]
        },
        {
          "output_type": "stream",
          "name": "stdout",
          "text": [
            "Epoch [1/10], Batch [0/301], Loss: 1.1903, Batch Accuracy: 0.2500\n",
            "Epoch [1/10], Batch [10/301], Loss: 0.7014, Batch Accuracy: 0.5000\n",
            "Epoch [1/10], Batch [20/301], Loss: 0.6690, Batch Accuracy: 0.6875\n",
            "Epoch [1/10], Batch [30/301], Loss: 0.4188, Batch Accuracy: 0.8438\n",
            "Epoch [1/10], Batch [40/301], Loss: 0.5326, Batch Accuracy: 0.7188\n",
            "Epoch [1/10], Batch [50/301], Loss: 0.4631, Batch Accuracy: 0.8125\n",
            "Epoch [1/10], Batch [60/301], Loss: 0.3481, Batch Accuracy: 0.8438\n",
            "Epoch [1/10], Batch [70/301], Loss: 0.4884, Batch Accuracy: 0.7188\n",
            "Epoch [1/10], Batch [80/301], Loss: 0.3578, Batch Accuracy: 0.9062\n",
            "Epoch [1/10], Batch [90/301], Loss: 0.3825, Batch Accuracy: 0.7812\n",
            "Epoch [1/10], Batch [100/301], Loss: 0.4786, Batch Accuracy: 0.7812\n",
            "Epoch [1/10], Batch [110/301], Loss: 0.4226, Batch Accuracy: 0.8125\n",
            "Epoch [1/10], Batch [120/301], Loss: 0.2466, Batch Accuracy: 0.9375\n",
            "Epoch [1/10], Batch [130/301], Loss: 0.3785, Batch Accuracy: 0.8125\n",
            "Epoch [1/10], Batch [140/301], Loss: 0.2823, Batch Accuracy: 0.8750\n",
            "Epoch [1/10], Batch [150/301], Loss: 0.2462, Batch Accuracy: 0.9375\n",
            "Epoch [1/10], Batch [160/301], Loss: 0.1905, Batch Accuracy: 0.9375\n",
            "Epoch [1/10], Batch [170/301], Loss: 0.2257, Batch Accuracy: 0.9375\n",
            "Epoch [1/10], Batch [180/301], Loss: 0.2013, Batch Accuracy: 0.9375\n",
            "Epoch [1/10], Batch [190/301], Loss: 0.3371, Batch Accuracy: 0.7812\n",
            "Epoch [1/10], Batch [200/301], Loss: 0.3502, Batch Accuracy: 0.8438\n",
            "Epoch [1/10], Batch [210/301], Loss: 0.3262, Batch Accuracy: 0.8750\n",
            "Epoch [1/10], Batch [220/301], Loss: 0.1611, Batch Accuracy: 0.9375\n",
            "Epoch [1/10], Batch [230/301], Loss: 0.3441, Batch Accuracy: 0.9375\n",
            "Epoch [1/10], Batch [240/301], Loss: 0.3015, Batch Accuracy: 0.8438\n",
            "Epoch [1/10], Batch [250/301], Loss: 0.3261, Batch Accuracy: 0.7812\n",
            "Epoch [1/10], Batch [260/301], Loss: 0.2753, Batch Accuracy: 0.9062\n",
            "Epoch [1/10], Batch [270/301], Loss: 0.5167, Batch Accuracy: 0.7812\n",
            "Epoch [1/10], Batch [280/301], Loss: 0.2538, Batch Accuracy: 0.9062\n",
            "Epoch [1/10], Batch [290/301], Loss: 0.3298, Batch Accuracy: 0.9062\n"
          ]
        },
        {
          "output_type": "stream",
          "name": "stderr",
          "text": [
            "\r 10%|█         | 1/10 [02:29<22:26, 149.58s/it]"
          ]
        },
        {
          "output_type": "stream",
          "name": "stdout",
          "text": [
            "Epoch [1/10], Batch [300/301], Loss: 0.1214, Batch Accuracy: 1.0000\n",
            "Epoch [1/10], Average Loss: 0.3625, Epoch Accuracy: 0.8327\n",
            "Epoch [2/10], Batch [0/301], Loss: 0.3809, Batch Accuracy: 0.8750\n",
            "Epoch [2/10], Batch [10/301], Loss: 0.1835, Batch Accuracy: 0.9688\n",
            "Epoch [2/10], Batch [20/301], Loss: 0.4525, Batch Accuracy: 0.8438\n",
            "Epoch [2/10], Batch [30/301], Loss: 0.3941, Batch Accuracy: 0.8438\n",
            "Epoch [2/10], Batch [40/301], Loss: 0.2322, Batch Accuracy: 0.8438\n",
            "Epoch [2/10], Batch [50/301], Loss: 0.3025, Batch Accuracy: 0.9062\n",
            "Epoch [2/10], Batch [60/301], Loss: 0.2940, Batch Accuracy: 0.9062\n",
            "Epoch [2/10], Batch [70/301], Loss: 0.2055, Batch Accuracy: 0.9688\n",
            "Epoch [2/10], Batch [80/301], Loss: 0.1541, Batch Accuracy: 0.9688\n",
            "Epoch [2/10], Batch [90/301], Loss: 0.2298, Batch Accuracy: 0.9688\n",
            "Epoch [2/10], Batch [100/301], Loss: 0.3921, Batch Accuracy: 0.8125\n",
            "Epoch [2/10], Batch [110/301], Loss: 0.3561, Batch Accuracy: 0.8750\n",
            "Epoch [2/10], Batch [120/301], Loss: 0.2301, Batch Accuracy: 0.8750\n",
            "Epoch [2/10], Batch [130/301], Loss: 0.3546, Batch Accuracy: 0.8438\n",
            "Epoch [2/10], Batch [140/301], Loss: 0.4220, Batch Accuracy: 0.7812\n",
            "Epoch [2/10], Batch [150/301], Loss: 0.3514, Batch Accuracy: 0.8750\n",
            "Epoch [2/10], Batch [160/301], Loss: 0.3427, Batch Accuracy: 0.9062\n",
            "Epoch [2/10], Batch [170/301], Loss: 0.2409, Batch Accuracy: 0.8750\n",
            "Epoch [2/10], Batch [180/301], Loss: 0.3076, Batch Accuracy: 0.8750\n",
            "Epoch [2/10], Batch [190/301], Loss: 0.2390, Batch Accuracy: 0.9375\n",
            "Epoch [2/10], Batch [200/301], Loss: 0.1618, Batch Accuracy: 0.9375\n",
            "Epoch [2/10], Batch [210/301], Loss: 0.2584, Batch Accuracy: 0.8750\n",
            "Epoch [2/10], Batch [220/301], Loss: 0.2143, Batch Accuracy: 0.9062\n",
            "Epoch [2/10], Batch [230/301], Loss: 0.1945, Batch Accuracy: 0.9375\n",
            "Epoch [2/10], Batch [240/301], Loss: 0.2361, Batch Accuracy: 0.8438\n",
            "Epoch [2/10], Batch [250/301], Loss: 0.2419, Batch Accuracy: 0.9375\n",
            "Epoch [2/10], Batch [260/301], Loss: 0.2242, Batch Accuracy: 0.9062\n",
            "Epoch [2/10], Batch [270/301], Loss: 0.1604, Batch Accuracy: 0.9375\n",
            "Epoch [2/10], Batch [280/301], Loss: 0.3379, Batch Accuracy: 0.8125\n",
            "Epoch [2/10], Batch [290/301], Loss: 0.2103, Batch Accuracy: 0.9375\n"
          ]
        },
        {
          "output_type": "stream",
          "name": "stderr",
          "text": [
            "\r 20%|██        | 2/10 [04:59<19:59, 149.91s/it]"
          ]
        },
        {
          "output_type": "stream",
          "name": "stdout",
          "text": [
            "Epoch [2/10], Batch [300/301], Loss: 0.1792, Batch Accuracy: 1.0000\n",
            "Epoch [2/10], Average Loss: 0.2546, Epoch Accuracy: 0.8954\n",
            "Epoch [3/10], Batch [0/301], Loss: 0.2550, Batch Accuracy: 0.9062\n",
            "Epoch [3/10], Batch [10/301], Loss: 0.2628, Batch Accuracy: 0.9062\n",
            "Epoch [3/10], Batch [20/301], Loss: 0.1312, Batch Accuracy: 0.9375\n",
            "Epoch [3/10], Batch [30/301], Loss: 0.2384, Batch Accuracy: 0.8750\n",
            "Epoch [3/10], Batch [40/301], Loss: 0.1746, Batch Accuracy: 0.9375\n",
            "Epoch [3/10], Batch [50/301], Loss: 0.4211, Batch Accuracy: 0.7812\n",
            "Epoch [3/10], Batch [60/301], Loss: 0.2551, Batch Accuracy: 0.9688\n",
            "Epoch [3/10], Batch [70/301], Loss: 0.1730, Batch Accuracy: 0.9375\n",
            "Epoch [3/10], Batch [80/301], Loss: 0.1740, Batch Accuracy: 0.9375\n",
            "Epoch [3/10], Batch [90/301], Loss: 0.1966, Batch Accuracy: 0.8750\n",
            "Epoch [3/10], Batch [100/301], Loss: 0.2761, Batch Accuracy: 0.9062\n",
            "Epoch [3/10], Batch [110/301], Loss: 0.2349, Batch Accuracy: 0.9062\n",
            "Epoch [3/10], Batch [120/301], Loss: 0.0906, Batch Accuracy: 1.0000\n",
            "Epoch [3/10], Batch [130/301], Loss: 0.2797, Batch Accuracy: 0.8438\n",
            "Epoch [3/10], Batch [140/301], Loss: 0.2642, Batch Accuracy: 0.8750\n",
            "Epoch [3/10], Batch [150/301], Loss: 0.2181, Batch Accuracy: 0.8750\n",
            "Epoch [3/10], Batch [160/301], Loss: 0.3640, Batch Accuracy: 0.7812\n",
            "Epoch [3/10], Batch [170/301], Loss: 0.3579, Batch Accuracy: 0.8125\n",
            "Epoch [3/10], Batch [180/301], Loss: 0.2472, Batch Accuracy: 0.9375\n",
            "Epoch [3/10], Batch [190/301], Loss: 0.2403, Batch Accuracy: 0.9062\n",
            "Epoch [3/10], Batch [200/301], Loss: 0.2229, Batch Accuracy: 0.8750\n",
            "Epoch [3/10], Batch [210/301], Loss: 0.2686, Batch Accuracy: 0.8750\n",
            "Epoch [3/10], Batch [220/301], Loss: 0.1919, Batch Accuracy: 0.9375\n",
            "Epoch [3/10], Batch [230/301], Loss: 0.0841, Batch Accuracy: 0.9688\n",
            "Epoch [3/10], Batch [240/301], Loss: 0.1175, Batch Accuracy: 0.9688\n",
            "Epoch [3/10], Batch [250/301], Loss: 0.1294, Batch Accuracy: 0.9688\n",
            "Epoch [3/10], Batch [260/301], Loss: 0.2520, Batch Accuracy: 0.8750\n",
            "Epoch [3/10], Batch [270/301], Loss: 0.1464, Batch Accuracy: 0.9688\n",
            "Epoch [3/10], Batch [280/301], Loss: 0.1584, Batch Accuracy: 0.9688\n",
            "Epoch [3/10], Batch [290/301], Loss: 0.1996, Batch Accuracy: 0.9375\n"
          ]
        },
        {
          "output_type": "stream",
          "name": "stderr",
          "text": [
            "\r 30%|███       | 3/10 [07:29<17:30, 150.04s/it]"
          ]
        },
        {
          "output_type": "stream",
          "name": "stdout",
          "text": [
            "Epoch [3/10], Batch [300/301], Loss: 0.2212, Batch Accuracy: 0.8000\n",
            "Epoch [3/10], Average Loss: 0.2332, Epoch Accuracy: 0.9070\n",
            "Epoch [4/10], Batch [0/301], Loss: 0.3341, Batch Accuracy: 0.8438\n",
            "Epoch [4/10], Batch [10/301], Loss: 0.1948, Batch Accuracy: 0.9375\n",
            "Epoch [4/10], Batch [20/301], Loss: 0.1630, Batch Accuracy: 0.9375\n",
            "Epoch [4/10], Batch [30/301], Loss: 0.2422, Batch Accuracy: 0.9375\n",
            "Epoch [4/10], Batch [40/301], Loss: 0.2095, Batch Accuracy: 0.9062\n",
            "Epoch [4/10], Batch [50/301], Loss: 0.2184, Batch Accuracy: 0.9062\n",
            "Epoch [4/10], Batch [60/301], Loss: 0.1224, Batch Accuracy: 1.0000\n",
            "Epoch [4/10], Batch [70/301], Loss: 0.1911, Batch Accuracy: 0.9062\n",
            "Epoch [4/10], Batch [80/301], Loss: 0.2105, Batch Accuracy: 0.9375\n",
            "Epoch [4/10], Batch [90/301], Loss: 0.1667, Batch Accuracy: 0.9375\n",
            "Epoch [4/10], Batch [100/301], Loss: 0.1055, Batch Accuracy: 0.9688\n",
            "Epoch [4/10], Batch [110/301], Loss: 0.2948, Batch Accuracy: 0.8750\n",
            "Epoch [4/10], Batch [120/301], Loss: 0.1406, Batch Accuracy: 0.9375\n",
            "Epoch [4/10], Batch [130/301], Loss: 0.2008, Batch Accuracy: 0.9062\n",
            "Epoch [4/10], Batch [140/301], Loss: 0.4500, Batch Accuracy: 0.8125\n",
            "Epoch [4/10], Batch [150/301], Loss: 0.2185, Batch Accuracy: 0.8750\n",
            "Epoch [4/10], Batch [160/301], Loss: 0.3054, Batch Accuracy: 0.9062\n",
            "Epoch [4/10], Batch [170/301], Loss: 0.3336, Batch Accuracy: 0.9062\n",
            "Epoch [4/10], Batch [180/301], Loss: 0.1737, Batch Accuracy: 0.9688\n",
            "Epoch [4/10], Batch [190/301], Loss: 0.2971, Batch Accuracy: 0.8125\n",
            "Epoch [4/10], Batch [200/301], Loss: 0.1952, Batch Accuracy: 0.9375\n",
            "Epoch [4/10], Batch [210/301], Loss: 0.2253, Batch Accuracy: 0.9375\n",
            "Epoch [4/10], Batch [220/301], Loss: 0.1489, Batch Accuracy: 0.9688\n",
            "Epoch [4/10], Batch [230/301], Loss: 0.2685, Batch Accuracy: 0.9062\n",
            "Epoch [4/10], Batch [240/301], Loss: 0.2784, Batch Accuracy: 0.8750\n",
            "Epoch [4/10], Batch [250/301], Loss: 0.2670, Batch Accuracy: 0.8438\n",
            "Epoch [4/10], Batch [260/301], Loss: 0.1371, Batch Accuracy: 0.9375\n",
            "Epoch [4/10], Batch [270/301], Loss: 0.2630, Batch Accuracy: 0.9375\n",
            "Epoch [4/10], Batch [280/301], Loss: 0.2361, Batch Accuracy: 0.9062\n",
            "Epoch [4/10], Batch [290/301], Loss: 0.1229, Batch Accuracy: 0.9375\n"
          ]
        },
        {
          "output_type": "stream",
          "name": "stderr",
          "text": [
            "\r 40%|████      | 4/10 [09:59<14:59, 150.00s/it]"
          ]
        },
        {
          "output_type": "stream",
          "name": "stdout",
          "text": [
            "Epoch [4/10], Batch [300/301], Loss: 0.0815, Batch Accuracy: 1.0000\n",
            "Epoch [4/10], Average Loss: 0.2218, Epoch Accuracy: 0.9137\n",
            "Epoch [5/10], Batch [0/301], Loss: 0.4040, Batch Accuracy: 0.7812\n",
            "Epoch [5/10], Batch [10/301], Loss: 0.2865, Batch Accuracy: 0.9062\n",
            "Epoch [5/10], Batch [20/301], Loss: 0.1776, Batch Accuracy: 0.9375\n",
            "Epoch [5/10], Batch [30/301], Loss: 0.1065, Batch Accuracy: 0.9688\n",
            "Epoch [5/10], Batch [40/301], Loss: 0.2576, Batch Accuracy: 0.8438\n",
            "Epoch [5/10], Batch [50/301], Loss: 0.1254, Batch Accuracy: 0.9688\n",
            "Epoch [5/10], Batch [60/301], Loss: 0.0775, Batch Accuracy: 1.0000\n",
            "Epoch [5/10], Batch [70/301], Loss: 0.2542, Batch Accuracy: 0.9375\n",
            "Epoch [5/10], Batch [80/301], Loss: 0.1613, Batch Accuracy: 0.9375\n",
            "Epoch [5/10], Batch [90/301], Loss: 0.3783, Batch Accuracy: 0.7812\n",
            "Epoch [5/10], Batch [100/301], Loss: 0.2783, Batch Accuracy: 0.8750\n",
            "Epoch [5/10], Batch [110/301], Loss: 0.1725, Batch Accuracy: 0.9375\n",
            "Epoch [5/10], Batch [120/301], Loss: 0.1638, Batch Accuracy: 0.9062\n",
            "Epoch [5/10], Batch [130/301], Loss: 0.1437, Batch Accuracy: 0.9062\n",
            "Epoch [5/10], Batch [140/301], Loss: 0.1832, Batch Accuracy: 0.9375\n",
            "Epoch [5/10], Batch [150/301], Loss: 0.1617, Batch Accuracy: 0.9688\n",
            "Epoch [5/10], Batch [160/301], Loss: 0.1445, Batch Accuracy: 0.9375\n",
            "Epoch [5/10], Batch [170/301], Loss: 0.1415, Batch Accuracy: 0.9688\n",
            "Epoch [5/10], Batch [180/301], Loss: 0.1908, Batch Accuracy: 0.9688\n",
            "Epoch [5/10], Batch [190/301], Loss: 0.2982, Batch Accuracy: 0.8750\n",
            "Epoch [5/10], Batch [200/301], Loss: 0.0979, Batch Accuracy: 1.0000\n",
            "Epoch [5/10], Batch [210/301], Loss: 0.3468, Batch Accuracy: 0.8438\n",
            "Epoch [5/10], Batch [220/301], Loss: 0.1541, Batch Accuracy: 0.9375\n",
            "Epoch [5/10], Batch [230/301], Loss: 0.1722, Batch Accuracy: 0.9062\n",
            "Epoch [5/10], Batch [240/301], Loss: 0.3012, Batch Accuracy: 0.8750\n",
            "Epoch [5/10], Batch [250/301], Loss: 0.1274, Batch Accuracy: 0.9375\n",
            "Epoch [5/10], Batch [260/301], Loss: 0.0885, Batch Accuracy: 0.9688\n",
            "Epoch [5/10], Batch [270/301], Loss: 0.4490, Batch Accuracy: 0.8125\n",
            "Epoch [5/10], Batch [280/301], Loss: 0.2271, Batch Accuracy: 0.9062\n",
            "Epoch [5/10], Batch [290/301], Loss: 0.2012, Batch Accuracy: 0.9688\n"
          ]
        },
        {
          "output_type": "stream",
          "name": "stderr",
          "text": [
            "\r 50%|█████     | 5/10 [12:29<12:29, 149.97s/it]"
          ]
        },
        {
          "output_type": "stream",
          "name": "stdout",
          "text": [
            "Epoch [5/10], Batch [300/301], Loss: 0.0938, Batch Accuracy: 1.0000\n",
            "Epoch [5/10], Average Loss: 0.2137, Epoch Accuracy: 0.9185\n",
            "Epoch [6/10], Batch [0/301], Loss: 0.2570, Batch Accuracy: 0.9375\n",
            "Epoch [6/10], Batch [10/301], Loss: 0.1019, Batch Accuracy: 0.9688\n",
            "Epoch [6/10], Batch [20/301], Loss: 0.1505, Batch Accuracy: 0.9688\n",
            "Epoch [6/10], Batch [30/301], Loss: 0.1637, Batch Accuracy: 0.9375\n",
            "Epoch [6/10], Batch [40/301], Loss: 0.0669, Batch Accuracy: 1.0000\n",
            "Epoch [6/10], Batch [50/301], Loss: 0.2260, Batch Accuracy: 0.9375\n",
            "Epoch [6/10], Batch [60/301], Loss: 0.2088, Batch Accuracy: 0.9062\n",
            "Epoch [6/10], Batch [70/301], Loss: 0.4035, Batch Accuracy: 0.8438\n",
            "Epoch [6/10], Batch [80/301], Loss: 0.2770, Batch Accuracy: 0.7500\n",
            "Epoch [6/10], Batch [90/301], Loss: 0.1420, Batch Accuracy: 0.9375\n",
            "Epoch [6/10], Batch [100/301], Loss: 0.2996, Batch Accuracy: 0.8750\n",
            "Epoch [6/10], Batch [110/301], Loss: 0.2710, Batch Accuracy: 0.8750\n",
            "Epoch [6/10], Batch [120/301], Loss: 0.3142, Batch Accuracy: 0.8125\n",
            "Epoch [6/10], Batch [130/301], Loss: 0.1787, Batch Accuracy: 0.9688\n",
            "Epoch [6/10], Batch [140/301], Loss: 0.2242, Batch Accuracy: 0.9062\n",
            "Epoch [6/10], Batch [150/301], Loss: 0.1097, Batch Accuracy: 0.9688\n",
            "Epoch [6/10], Batch [160/301], Loss: 0.2207, Batch Accuracy: 0.8750\n",
            "Epoch [6/10], Batch [170/301], Loss: 0.1537, Batch Accuracy: 0.9375\n",
            "Epoch [6/10], Batch [180/301], Loss: 0.1997, Batch Accuracy: 0.9688\n",
            "Epoch [6/10], Batch [190/301], Loss: 0.1791, Batch Accuracy: 0.9375\n",
            "Epoch [6/10], Batch [200/301], Loss: 0.2524, Batch Accuracy: 0.8438\n",
            "Epoch [6/10], Batch [210/301], Loss: 0.2685, Batch Accuracy: 0.8750\n",
            "Epoch [6/10], Batch [220/301], Loss: 0.2739, Batch Accuracy: 0.9062\n",
            "Epoch [6/10], Batch [230/301], Loss: 0.1728, Batch Accuracy: 0.9062\n",
            "Epoch [6/10], Batch [240/301], Loss: 0.1392, Batch Accuracy: 0.9688\n",
            "Epoch [6/10], Batch [250/301], Loss: 0.3324, Batch Accuracy: 0.8750\n",
            "Epoch [6/10], Batch [260/301], Loss: 0.4155, Batch Accuracy: 0.8750\n",
            "Epoch [6/10], Batch [270/301], Loss: 0.3456, Batch Accuracy: 0.8438\n",
            "Epoch [6/10], Batch [280/301], Loss: 0.3058, Batch Accuracy: 0.8125\n",
            "Epoch [6/10], Batch [290/301], Loss: 0.1733, Batch Accuracy: 0.9375\n"
          ]
        },
        {
          "output_type": "stream",
          "name": "stderr",
          "text": [
            "\r 60%|██████    | 6/10 [15:00<10:00, 150.07s/it]"
          ]
        },
        {
          "output_type": "stream",
          "name": "stdout",
          "text": [
            "Epoch [6/10], Batch [300/301], Loss: 0.0186, Batch Accuracy: 1.0000\n",
            "Epoch [6/10], Average Loss: 0.2054, Epoch Accuracy: 0.9188\n",
            "Epoch [7/10], Batch [0/301], Loss: 0.1512, Batch Accuracy: 0.9062\n",
            "Epoch [7/10], Batch [10/301], Loss: 0.1987, Batch Accuracy: 0.8750\n",
            "Epoch [7/10], Batch [20/301], Loss: 0.2527, Batch Accuracy: 0.8438\n",
            "Epoch [7/10], Batch [30/301], Loss: 0.0927, Batch Accuracy: 0.9688\n",
            "Epoch [7/10], Batch [40/301], Loss: 0.1479, Batch Accuracy: 0.9375\n",
            "Epoch [7/10], Batch [50/301], Loss: 0.1172, Batch Accuracy: 0.9375\n",
            "Epoch [7/10], Batch [60/301], Loss: 0.0774, Batch Accuracy: 0.9688\n",
            "Epoch [7/10], Batch [70/301], Loss: 0.1190, Batch Accuracy: 0.9688\n",
            "Epoch [7/10], Batch [80/301], Loss: 0.1796, Batch Accuracy: 0.9688\n",
            "Epoch [7/10], Batch [90/301], Loss: 0.1390, Batch Accuracy: 0.9375\n",
            "Epoch [7/10], Batch [100/301], Loss: 0.2839, Batch Accuracy: 0.8438\n",
            "Epoch [7/10], Batch [110/301], Loss: 0.2511, Batch Accuracy: 0.9375\n",
            "Epoch [7/10], Batch [120/301], Loss: 0.2386, Batch Accuracy: 0.9375\n",
            "Epoch [7/10], Batch [130/301], Loss: 0.1417, Batch Accuracy: 0.9688\n",
            "Epoch [7/10], Batch [140/301], Loss: 0.1965, Batch Accuracy: 0.9375\n",
            "Epoch [7/10], Batch [150/301], Loss: 0.1312, Batch Accuracy: 1.0000\n",
            "Epoch [7/10], Batch [160/301], Loss: 0.0755, Batch Accuracy: 1.0000\n",
            "Epoch [7/10], Batch [170/301], Loss: 0.0606, Batch Accuracy: 1.0000\n",
            "Epoch [7/10], Batch [180/301], Loss: 0.3035, Batch Accuracy: 0.9062\n",
            "Epoch [7/10], Batch [190/301], Loss: 0.1130, Batch Accuracy: 0.9688\n",
            "Epoch [7/10], Batch [200/301], Loss: 0.1599, Batch Accuracy: 0.9688\n",
            "Epoch [7/10], Batch [210/301], Loss: 0.2847, Batch Accuracy: 0.9062\n",
            "Epoch [7/10], Batch [220/301], Loss: 0.2505, Batch Accuracy: 0.9688\n",
            "Epoch [7/10], Batch [230/301], Loss: 0.1446, Batch Accuracy: 0.9688\n",
            "Epoch [7/10], Batch [240/301], Loss: 0.1683, Batch Accuracy: 0.9062\n",
            "Epoch [7/10], Batch [250/301], Loss: 0.0338, Batch Accuracy: 1.0000\n",
            "Epoch [7/10], Batch [260/301], Loss: 0.1478, Batch Accuracy: 0.9375\n",
            "Epoch [7/10], Batch [270/301], Loss: 0.3390, Batch Accuracy: 0.8750\n",
            "Epoch [7/10], Batch [280/301], Loss: 0.1387, Batch Accuracy: 0.9375\n",
            "Epoch [7/10], Batch [290/301], Loss: 0.1717, Batch Accuracy: 0.9375\n"
          ]
        },
        {
          "output_type": "stream",
          "name": "stderr",
          "text": [
            "\r 70%|███████   | 7/10 [17:29<07:29, 149.98s/it]"
          ]
        },
        {
          "output_type": "stream",
          "name": "stdout",
          "text": [
            "Epoch [7/10], Batch [300/301], Loss: 0.0475, Batch Accuracy: 1.0000\n",
            "Epoch [7/10], Average Loss: 0.2013, Epoch Accuracy: 0.9216\n",
            "Epoch [8/10], Batch [0/301], Loss: 0.2293, Batch Accuracy: 0.8750\n",
            "Epoch [8/10], Batch [10/301], Loss: 0.2302, Batch Accuracy: 0.9375\n",
            "Epoch [8/10], Batch [20/301], Loss: 0.0921, Batch Accuracy: 0.9688\n",
            "Epoch [8/10], Batch [30/301], Loss: 0.4238, Batch Accuracy: 0.7812\n",
            "Epoch [8/10], Batch [40/301], Loss: 0.0578, Batch Accuracy: 0.9688\n",
            "Epoch [8/10], Batch [50/301], Loss: 0.1525, Batch Accuracy: 0.9688\n",
            "Epoch [8/10], Batch [60/301], Loss: 0.3002, Batch Accuracy: 0.9062\n",
            "Epoch [8/10], Batch [70/301], Loss: 0.2156, Batch Accuracy: 0.9375\n",
            "Epoch [8/10], Batch [80/301], Loss: 0.2057, Batch Accuracy: 0.9062\n",
            "Epoch [8/10], Batch [90/301], Loss: 0.1663, Batch Accuracy: 0.9375\n",
            "Epoch [8/10], Batch [100/301], Loss: 0.0591, Batch Accuracy: 1.0000\n",
            "Epoch [8/10], Batch [110/301], Loss: 0.3468, Batch Accuracy: 0.8125\n",
            "Epoch [8/10], Batch [120/301], Loss: 0.2681, Batch Accuracy: 0.9062\n",
            "Epoch [8/10], Batch [130/301], Loss: 0.3790, Batch Accuracy: 0.8750\n",
            "Epoch [8/10], Batch [140/301], Loss: 0.2097, Batch Accuracy: 0.8750\n",
            "Epoch [8/10], Batch [150/301], Loss: 0.2185, Batch Accuracy: 0.9375\n",
            "Epoch [8/10], Batch [160/301], Loss: 0.1156, Batch Accuracy: 1.0000\n",
            "Epoch [8/10], Batch [170/301], Loss: 0.1456, Batch Accuracy: 0.9062\n",
            "Epoch [8/10], Batch [180/301], Loss: 0.2743, Batch Accuracy: 0.9062\n",
            "Epoch [8/10], Batch [190/301], Loss: 0.3704, Batch Accuracy: 0.8438\n",
            "Epoch [8/10], Batch [200/301], Loss: 0.2803, Batch Accuracy: 0.9062\n",
            "Epoch [8/10], Batch [210/301], Loss: 0.1071, Batch Accuracy: 0.9688\n",
            "Epoch [8/10], Batch [220/301], Loss: 0.1864, Batch Accuracy: 0.9062\n",
            "Epoch [8/10], Batch [230/301], Loss: 0.5319, Batch Accuracy: 0.7188\n",
            "Epoch [8/10], Batch [240/301], Loss: 0.1503, Batch Accuracy: 0.9375\n",
            "Epoch [8/10], Batch [250/301], Loss: 0.1036, Batch Accuracy: 1.0000\n",
            "Epoch [8/10], Batch [260/301], Loss: 0.0732, Batch Accuracy: 1.0000\n",
            "Epoch [8/10], Batch [270/301], Loss: 0.3796, Batch Accuracy: 0.8750\n",
            "Epoch [8/10], Batch [280/301], Loss: 0.2297, Batch Accuracy: 0.9375\n",
            "Epoch [8/10], Batch [290/301], Loss: 0.1923, Batch Accuracy: 0.9062\n"
          ]
        },
        {
          "output_type": "stream",
          "name": "stderr",
          "text": [
            "\r 80%|████████  | 8/10 [19:59<05:00, 150.01s/it]"
          ]
        },
        {
          "output_type": "stream",
          "name": "stdout",
          "text": [
            "Epoch [8/10], Batch [300/301], Loss: 0.0835, Batch Accuracy: 1.0000\n",
            "Epoch [8/10], Average Loss: 0.1990, Epoch Accuracy: 0.9206\n",
            "Epoch [9/10], Batch [0/301], Loss: 0.2003, Batch Accuracy: 0.9062\n",
            "Epoch [9/10], Batch [10/301], Loss: 0.2463, Batch Accuracy: 0.8750\n",
            "Epoch [9/10], Batch [20/301], Loss: 0.1817, Batch Accuracy: 0.9375\n",
            "Epoch [9/10], Batch [30/301], Loss: 0.1414, Batch Accuracy: 0.9688\n",
            "Epoch [9/10], Batch [40/301], Loss: 0.2197, Batch Accuracy: 0.9062\n",
            "Epoch [9/10], Batch [50/301], Loss: 0.2479, Batch Accuracy: 0.9062\n",
            "Epoch [9/10], Batch [60/301], Loss: 0.3166, Batch Accuracy: 0.9062\n",
            "Epoch [9/10], Batch [70/301], Loss: 0.1456, Batch Accuracy: 0.9375\n",
            "Epoch [9/10], Batch [80/301], Loss: 0.2557, Batch Accuracy: 0.8438\n",
            "Epoch [9/10], Batch [90/301], Loss: 0.1240, Batch Accuracy: 0.9688\n",
            "Epoch [9/10], Batch [100/301], Loss: 0.3617, Batch Accuracy: 0.8750\n",
            "Epoch [9/10], Batch [110/301], Loss: 0.1355, Batch Accuracy: 0.9688\n",
            "Epoch [9/10], Batch [120/301], Loss: 0.3203, Batch Accuracy: 0.9062\n",
            "Epoch [9/10], Batch [130/301], Loss: 0.1725, Batch Accuracy: 0.9375\n",
            "Epoch [9/10], Batch [140/301], Loss: 0.1882, Batch Accuracy: 0.9375\n",
            "Epoch [9/10], Batch [150/301], Loss: 0.2759, Batch Accuracy: 0.8750\n",
            "Epoch [9/10], Batch [160/301], Loss: 0.2141, Batch Accuracy: 0.9062\n",
            "Epoch [9/10], Batch [170/301], Loss: 0.1744, Batch Accuracy: 0.9375\n",
            "Epoch [9/10], Batch [180/301], Loss: 0.2005, Batch Accuracy: 0.9062\n",
            "Epoch [9/10], Batch [190/301], Loss: 0.1630, Batch Accuracy: 0.9062\n",
            "Epoch [9/10], Batch [200/301], Loss: 0.1908, Batch Accuracy: 0.9375\n",
            "Epoch [9/10], Batch [210/301], Loss: 0.1784, Batch Accuracy: 0.9375\n",
            "Epoch [9/10], Batch [220/301], Loss: 0.1641, Batch Accuracy: 0.9688\n",
            "Epoch [9/10], Batch [230/301], Loss: 0.4467, Batch Accuracy: 0.8438\n",
            "Epoch [9/10], Batch [240/301], Loss: 0.1257, Batch Accuracy: 0.9688\n",
            "Epoch [9/10], Batch [250/301], Loss: 0.2590, Batch Accuracy: 0.9375\n",
            "Epoch [9/10], Batch [260/301], Loss: 0.2658, Batch Accuracy: 0.9062\n",
            "Epoch [9/10], Batch [270/301], Loss: 0.2074, Batch Accuracy: 0.9062\n",
            "Epoch [9/10], Batch [280/301], Loss: 0.1171, Batch Accuracy: 0.9375\n",
            "Epoch [9/10], Batch [290/301], Loss: 0.0991, Batch Accuracy: 0.9688\n"
          ]
        },
        {
          "output_type": "stream",
          "name": "stderr",
          "text": [
            "\r 90%|█████████ | 9/10 [22:29<02:29, 149.98s/it]"
          ]
        },
        {
          "output_type": "stream",
          "name": "stdout",
          "text": [
            "Epoch [9/10], Batch [300/301], Loss: 0.0338, Batch Accuracy: 1.0000\n",
            "Epoch [9/10], Average Loss: 0.1956, Epoch Accuracy: 0.9231\n",
            "Epoch [10/10], Batch [0/301], Loss: 0.3657, Batch Accuracy: 0.8750\n",
            "Epoch [10/10], Batch [10/301], Loss: 0.4371, Batch Accuracy: 0.7500\n",
            "Epoch [10/10], Batch [20/301], Loss: 0.2025, Batch Accuracy: 0.9375\n",
            "Epoch [10/10], Batch [30/301], Loss: 0.1615, Batch Accuracy: 0.9375\n",
            "Epoch [10/10], Batch [40/301], Loss: 0.2651, Batch Accuracy: 0.9062\n",
            "Epoch [10/10], Batch [50/301], Loss: 0.2407, Batch Accuracy: 0.8750\n",
            "Epoch [10/10], Batch [60/301], Loss: 0.2093, Batch Accuracy: 0.9375\n",
            "Epoch [10/10], Batch [70/301], Loss: 0.2246, Batch Accuracy: 0.8750\n",
            "Epoch [10/10], Batch [80/301], Loss: 0.2157, Batch Accuracy: 0.8750\n",
            "Epoch [10/10], Batch [90/301], Loss: 0.3437, Batch Accuracy: 0.8750\n",
            "Epoch [10/10], Batch [100/301], Loss: 0.0793, Batch Accuracy: 1.0000\n",
            "Epoch [10/10], Batch [110/301], Loss: 0.1952, Batch Accuracy: 0.9375\n",
            "Epoch [10/10], Batch [120/301], Loss: 0.2146, Batch Accuracy: 0.9062\n",
            "Epoch [10/10], Batch [130/301], Loss: 0.1853, Batch Accuracy: 0.9375\n",
            "Epoch [10/10], Batch [140/301], Loss: 0.4229, Batch Accuracy: 0.8438\n",
            "Epoch [10/10], Batch [150/301], Loss: 0.3336, Batch Accuracy: 0.8750\n",
            "Epoch [10/10], Batch [160/301], Loss: 0.1146, Batch Accuracy: 0.9375\n",
            "Epoch [10/10], Batch [170/301], Loss: 0.1068, Batch Accuracy: 0.9375\n",
            "Epoch [10/10], Batch [180/301], Loss: 0.1136, Batch Accuracy: 0.9375\n",
            "Epoch [10/10], Batch [190/301], Loss: 0.1486, Batch Accuracy: 0.9062\n",
            "Epoch [10/10], Batch [200/301], Loss: 0.1884, Batch Accuracy: 0.9375\n",
            "Epoch [10/10], Batch [210/301], Loss: 0.4058, Batch Accuracy: 0.8750\n",
            "Epoch [10/10], Batch [220/301], Loss: 0.1636, Batch Accuracy: 0.9375\n",
            "Epoch [10/10], Batch [230/301], Loss: 0.1538, Batch Accuracy: 0.9375\n",
            "Epoch [10/10], Batch [240/301], Loss: 0.1565, Batch Accuracy: 0.9062\n",
            "Epoch [10/10], Batch [250/301], Loss: 0.1960, Batch Accuracy: 0.9062\n",
            "Epoch [10/10], Batch [260/301], Loss: 0.0850, Batch Accuracy: 1.0000\n",
            "Epoch [10/10], Batch [270/301], Loss: 0.1707, Batch Accuracy: 0.9688\n",
            "Epoch [10/10], Batch [280/301], Loss: 0.1620, Batch Accuracy: 0.9375\n",
            "Epoch [10/10], Batch [290/301], Loss: 0.2828, Batch Accuracy: 0.9375\n"
          ]
        },
        {
          "output_type": "stream",
          "name": "stderr",
          "text": [
            "100%|██████████| 10/10 [24:59<00:00, 149.94s/it]"
          ]
        },
        {
          "output_type": "stream",
          "name": "stdout",
          "text": [
            "Epoch [10/10], Batch [300/301], Loss: 0.1885, Batch Accuracy: 1.0000\n",
            "Epoch [10/10], Average Loss: 0.1950, Epoch Accuracy: 0.9237\n"
          ]
        },
        {
          "output_type": "stream",
          "name": "stderr",
          "text": [
            "\n"
          ]
        }
      ]
    },
    {
      "cell_type": "code",
      "source": [
        "import torch\n",
        "from tqdm import tqdm\n",
        "import time  # Import time module for latency measurement\n",
        "import subprocess  # Import subprocess to call nvidia-smi for GPU usage\n",
        "\n",
        "# Move the model to the appropriate device (GPU or CPU)\n",
        "device = torch.device('cuda' if torch.cuda.is_available() else 'cpu')\n",
        "model.to(device)\n",
        "\n",
        "# Set the model to evaluation mode\n",
        "model.eval()\n",
        "\n",
        "running_loss = 0\n",
        "running_corrects = 0\n",
        "total_samples = 0\n",
        "total_latency = 0  # Initialize total latency\n",
        "gpu_memory_list = []  # List to track GPU memory usage per batch\n",
        "gpu_usage_list = []  # List to track GPU utilization per batch\n",
        "\n",
        "# Disable gradient calculation for testing\n",
        "with torch.inference_mode():\n",
        "    for batch_idx, (images, labels) in enumerate(tqdm(test_dataloader)):\n",
        "        start_time = time.time()  # Start time for latency measurement\n",
        "\n",
        "        images, labels = images.to(device), labels.to(device)\n",
        "\n",
        "        # Forward pass\n",
        "        outputs = model(images).logits  # Access logits directly\n",
        "        loss = loss_fn(outputs, labels)\n",
        "\n",
        "        # Update running loss\n",
        "        running_loss += loss.item()\n",
        "\n",
        "        # Calculate predictions and accuracy\n",
        "        _, preds = torch.max(outputs, 1)  # Get predicted class indices\n",
        "        running_corrects += (preds == labels).sum().item()  # Count correct predictions\n",
        "        total_samples += labels.size(0)  # Count total samples in the batch\n",
        "\n",
        "        # Calculate latency for this batch\n",
        "        batch_latency = time.time() - start_time\n",
        "        total_latency += batch_latency  # Update total latency\n",
        "\n",
        "        # Capture GPU memory usage (in MB)\n",
        "        if device.type == 'cuda':\n",
        "            gpu_memory = torch.cuda.memory_allocated() / (1024 ** 2)  # Convert bytes to MB\n",
        "            gpu_memory_list.append(gpu_memory)\n",
        "\n",
        "            # Capture real-time GPU usage with nvidia-smi\n",
        "            result = subprocess.run(['nvidia-smi', '--query-gpu=utilization.gpu', '--format=csv,noheader,nounits'],\n",
        "                                    stdout=subprocess.PIPE, text=True)\n",
        "            gpu_usage = float(result.stdout.strip())  # Extract GPU usage percentage\n",
        "            gpu_usage_list.append(gpu_usage)\n",
        "\n",
        "        # Print every 10 batches\n",
        "        if batch_idx % 10 == 0:\n",
        "            batch_accuracy = (preds == labels).float().mean()  # Calculate batch accuracy\n",
        "            print(f\"Test Batch [{batch_idx}/{len(test_dataloader)}], \"\n",
        "                  f\"Loss: {loss.item():.4f}, Batch Accuracy: {batch_accuracy:.4f}, \"\n",
        "                  f\"Latency: {batch_latency:.4f} seconds\")\n",
        "\n",
        "# Calculate and print epoch-level metrics\n",
        "test_accuracy = running_corrects / total_samples  # Calculate accuracy for the test set\n",
        "average_loss = running_loss / len(test_dataloader)  # Calculate average loss\n",
        "average_latency = total_latency / len(test_dataloader)  # Calculate average latency per batch\n",
        "\n",
        "# Calculate average GPU memory usage\n",
        "average_gpu_memory = sum(gpu_memory_list) / len(gpu_memory_list) if gpu_memory_list else 0\n",
        "average_gpu_usage = sum(gpu_usage_list) / len(gpu_usage_list) if gpu_usage_list else 0\n",
        "\n",
        "# Print final metrics\n",
        "print(f'Test Loss: {average_loss:.4f}')\n",
        "print(f'Test Accuracy: {test_accuracy * 100:.2f}%')  # Convert accuracy to percentage\n",
        "print(f'Average Latency per Batch: {average_latency:.4f} seconds')\n",
        "if device.type == 'cuda':\n",
        "    print(f'Average GPU Memory Usage: {average_gpu_memory:.2f} MB')\n",
        "    print(f'Average GPU Utilization: {average_gpu_usage:.2f}%')\n",
        "    print(f'Peak GPU Memory Usage: {torch.cuda.max_memory_allocated() / (1024 ** 2):.2f} MB')\n"
      ],
      "metadata": {
        "colab": {
          "base_uri": "https://localhost:8080/"
        },
        "id": "XR6mbsXs2M_M",
        "outputId": "ca6840e0-63ec-43c1-b4c3-17662fbc1b57"
      },
      "execution_count": 16,
      "outputs": [
        {
          "output_type": "stream",
          "name": "stderr",
          "text": [
            "  3%|▎         | 1/32 [00:00<00:29,  1.04it/s]"
          ]
        },
        {
          "output_type": "stream",
          "name": "stdout",
          "text": [
            "Test Batch [0/32], Loss: 0.2865, Batch Accuracy: 0.9062, Latency: 0.5393 seconds\n"
          ]
        },
        {
          "output_type": "stream",
          "name": "stderr",
          "text": [
            " 34%|███▍      | 11/32 [00:06<00:11,  1.88it/s]"
          ]
        },
        {
          "output_type": "stream",
          "name": "stdout",
          "text": [
            "Test Batch [10/32], Loss: 0.1823, Batch Accuracy: 0.9688, Latency: 0.4780 seconds\n"
          ]
        },
        {
          "output_type": "stream",
          "name": "stderr",
          "text": [
            " 66%|██████▌   | 21/32 [00:11<00:05,  1.89it/s]"
          ]
        },
        {
          "output_type": "stream",
          "name": "stdout",
          "text": [
            "Test Batch [20/32], Loss: 0.0011, Batch Accuracy: 1.0000, Latency: 0.4919 seconds\n"
          ]
        },
        {
          "output_type": "stream",
          "name": "stderr",
          "text": [
            "100%|██████████| 32/32 [00:17<00:00,  2.37it/s]"
          ]
        },
        {
          "output_type": "stream",
          "name": "stdout",
          "text": [
            "Test Batch [30/32], Loss: 0.8548, Batch Accuracy: 0.5938, Latency: 0.4824 seconds\n"
          ]
        },
        {
          "output_type": "stream",
          "name": "stderr",
          "text": [
            "\r100%|██████████| 32/32 [00:17<00:00,  1.86it/s]"
          ]
        },
        {
          "output_type": "stream",
          "name": "stdout",
          "text": [
            "Test Loss: 0.2402\n",
            "Test Accuracy: 91.30%\n",
            "Average Latency per Batch: 0.4731 seconds\n",
            "Average GPU Memory Usage: 365.86 MB\n",
            "Average GPU Utilization: 99.00%\n",
            "Peak GPU Memory Usage: 770.35 MB\n"
          ]
        },
        {
          "output_type": "stream",
          "name": "stderr",
          "text": [
            "\n"
          ]
        }
      ]
    },
    {
      "cell_type": "code",
      "source": [
        "from google.colab import files\n",
        "\n",
        "# Specify the path to the file you want to download\n",
        "file_path = '/content/dinov2/dinov2/dinov2_finetuned.pth'\n",
        "\n",
        "# Download the file\n",
        "files.download(file_path)\n"
      ],
      "metadata": {
        "colab": {
          "base_uri": "https://localhost:8080/",
          "height": 34
        },
        "id": "dkrb31NI9It1",
        "outputId": "721178cd-388f-4762-f77f-32b2ae6523bf"
      },
      "execution_count": null,
      "outputs": [
        {
          "output_type": "display_data",
          "data": {
            "text/plain": [
              "<IPython.core.display.Javascript object>"
            ],
            "application/javascript": [
              "\n",
              "    async function download(id, filename, size) {\n",
              "      if (!google.colab.kernel.accessAllowed) {\n",
              "        return;\n",
              "      }\n",
              "      const div = document.createElement('div');\n",
              "      const label = document.createElement('label');\n",
              "      label.textContent = `Downloading \"${filename}\": `;\n",
              "      div.appendChild(label);\n",
              "      const progress = document.createElement('progress');\n",
              "      progress.max = size;\n",
              "      div.appendChild(progress);\n",
              "      document.body.appendChild(div);\n",
              "\n",
              "      const buffers = [];\n",
              "      let downloaded = 0;\n",
              "\n",
              "      const channel = await google.colab.kernel.comms.open(id);\n",
              "      // Send a message to notify the kernel that we're ready.\n",
              "      channel.send({})\n",
              "\n",
              "      for await (const message of channel.messages) {\n",
              "        // Send a message to notify the kernel that we're ready.\n",
              "        channel.send({})\n",
              "        if (message.buffers) {\n",
              "          for (const buffer of message.buffers) {\n",
              "            buffers.push(buffer);\n",
              "            downloaded += buffer.byteLength;\n",
              "            progress.value = downloaded;\n",
              "          }\n",
              "        }\n",
              "      }\n",
              "      const blob = new Blob(buffers, {type: 'application/binary'});\n",
              "      const a = document.createElement('a');\n",
              "      a.href = window.URL.createObjectURL(blob);\n",
              "      a.download = filename;\n",
              "      div.appendChild(a);\n",
              "      a.click();\n",
              "      div.remove();\n",
              "    }\n",
              "  "
            ]
          },
          "metadata": {}
        },
        {
          "output_type": "display_data",
          "data": {
            "text/plain": [
              "<IPython.core.display.Javascript object>"
            ],
            "application/javascript": [
              "download(\"download_2ece0765-1873-4502-9d18-16204ae4e301\", \"dinov2_finetuned.pth\", 346425338)"
            ]
          },
          "metadata": {}
        }
      ]
    }
  ]
}
